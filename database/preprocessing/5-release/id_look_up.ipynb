{
 "cells": [
  {
   "cell_type": "code",
   "execution_count": 1,
   "metadata": {},
   "outputs": [],
   "source": [
    "# this is an ad hoc file to add Norway and UK for MSFT to '/home/nmd/Cluster/data/0-raw-data/id_look_up/country-ids/\n",
    "# as required as input by several functions of this step\n",
    "# another more generic files was likely used for v0.1 but could not be found\n",
    "\n",
    "import sys\n",
    "PROJECT_SRC_PATH = '/home/nmd/Projects/mlup/eubucco/eubucco'\n",
    "sys.path.append(PROJECT_SRC_PATH)"
   ]
  },
  {
   "cell_type": "code",
   "execution_count": 8,
   "metadata": {},
   "outputs": [],
   "source": [
    "import geopandas as gpd\n",
    "from preproc.db_set_up import clean_GADM_city_names "
   ]
  },
  {
   "cell_type": "code",
   "execution_count": 22,
   "metadata": {},
   "outputs": [],
   "source": [
    "df = gpd.read_file('/home/nmd/Downloads/gadm36_GBR_shp.zip!gadm36_GBR_2.shp')"
   ]
  },
  {
   "cell_type": "code",
   "execution_count": 23,
   "metadata": {},
   "outputs": [
    {
     "name": "stdout",
     "output_type": "stream",
     "text": [
      "-----\n",
      "GADM duplicates after cleaning:\n",
      "Empty GeoDataFrame\n",
      "Columns: [region_name, city_name, geometry, country_name]\n",
      "Index: []\n",
      "country name:  uk\n"
     ]
    },
    {
     "name": "stderr",
     "output_type": "stream",
     "text": [
      "/home/nmd/anaconda3/envs/mlup22/lib/python3.10/site-packages/geopandas/geodataframe.py:1351: SettingWithCopyWarning: \n",
      "A value is trying to be set on a copy of a slice from a DataFrame.\n",
      "Try using .loc[row_indexer,col_indexer] = value instead\n",
      "\n",
      "See the caveats in the documentation: https://pandas.pydata.org/pandas-docs/stable/user_guide/indexing.html#returning-a-view-versus-a-copy\n",
      "  super().__setitem__(key, value)\n",
      "/home/nmd/Projects/mlup/eubucco/eubucco/preproc/db_set_up.py:263: FutureWarning: The frame.append method is deprecated and will be removed from pandas in a future version. Use pandas.concat instead.\n",
      "  GADM_file = GADM_file.drop(g_d.index).append(g_d).loc[GADM_file.city_name.apply(type) == str]\n"
     ]
    }
   ],
   "source": [
    "df2 = clean_GADM_city_names(df, 'uk', 2)"
   ]
  },
  {
   "cell_type": "code",
   "execution_count": 25,
   "metadata": {},
   "outputs": [],
   "source": [
    "df2 = df2[['country_name','region_name','city_name']]"
   ]
  },
  {
   "cell_type": "code",
   "execution_count": 26,
   "metadata": {},
   "outputs": [],
   "source": [
    "df2['id_marker'] = df.GID_2"
   ]
  },
  {
   "cell_type": "code",
   "execution_count": 28,
   "metadata": {},
   "outputs": [],
   "source": [
    "df2.to_csv('/home/nmd/Cluster/data/0-raw-data/id_look_up/country-ids/uk_ids.csv',index=False)"
   ]
  },
  {
   "cell_type": "code",
   "execution_count": null,
   "metadata": {},
   "outputs": [],
   "source": []
  }
 ],
 "metadata": {
  "kernelspec": {
   "display_name": "mlup22",
   "language": "python",
   "name": "python3"
  },
  "language_info": {
   "codemirror_mode": {
    "name": "ipython",
    "version": 3
   },
   "file_extension": ".py",
   "mimetype": "text/x-python",
   "name": "python",
   "nbconvert_exporter": "python",
   "pygments_lexer": "ipython3",
   "version": "3.10.4"
  }
 },
 "nbformat": 4,
 "nbformat_minor": 2
}
