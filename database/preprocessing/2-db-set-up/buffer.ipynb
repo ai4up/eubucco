{
 "cells": [
  {
   "cell_type": "code",
   "execution_count": 2,
   "metadata": {},
   "outputs": [],
   "source": [
    "import geopandas as gpd\n",
    "import pandas as pd"
   ]
  },
  {
   "cell_type": "code",
   "execution_count": 9,
   "metadata": {},
   "outputs": [],
   "source": [
    "nuts_eubucco = pd.read_csv('0-raw-data/lau/lau_nuts_extra.csv')\n",
    "nuts_eubucco = list(set(nuts_eubucco.NUTS_ID_3))"
   ]
  },
  {
   "cell_type": "code",
   "execution_count": 6,
   "metadata": {},
   "outputs": [],
   "source": [
    "nuts_gdf = gpd.read_file('0-raw-data/lau/NUTS_RG_01M_2016_3035.shp')"
   ]
  },
  {
   "cell_type": "code",
   "execution_count": 17,
   "metadata": {},
   "outputs": [],
   "source": [
    "nuts_gdf = nuts_gdf[nuts_gdf.NUTS_ID.isin(nuts_eubucco)][['NUTS_ID','CNTR_CODE','geometry']].reset_index(drop=True)"
   ]
  },
  {
   "cell_type": "code",
   "execution_count": 58,
   "metadata": {},
   "outputs": [],
   "source": [
    "list_buffer_nuts = []\n",
    "\n",
    "for index in range(0,len(nuts_gdf)):\n",
    "    row = nuts_gdf.iloc[[index]]\n",
    "    nuts_id = row.NUTS_ID.iloc[0]\n",
    "    cntr_code = row.CNTR_CODE.iloc[0]\n",
    "    \n",
    "    list_buffer_nuts.append(gpd.sjoin(row,nuts_gdf[(nuts_gdf.NUTS_ID != nuts_id) & \n",
    "                                                   (nuts_gdf.CNTR_CODE == cntr_code)])\n",
    "                                                   ['NUTS_ID_right'].to_list())"
   ]
  },
  {
   "cell_type": "code",
   "execution_count": 60,
   "metadata": {},
   "outputs": [],
   "source": [
    "nuts_gdf['list_buffer_nuts'] = list_buffer_nuts\n"
   ]
  },
  {
   "cell_type": "code",
   "execution_count": 62,
   "metadata": {},
   "outputs": [
    {
     "name": "stderr",
     "output_type": "stream",
     "text": [
      "/tmp/ipykernel_23168/7152121.py:1: UserWarning: Column names longer than 10 characters will be truncated when saved to ESRI Shapefile.\n",
      "  nuts_gdf.to_file('buffer_nuts.gkpg')\n",
      "/home/nmd/anaconda3/envs/db-set-up/lib/python3.10/site-packages/pyogrio/raw.py:723: RuntimeWarning: Normalized/laundered field name: 'list_buffer_nuts' to 'list_buffe'\n",
      "  ogr_write(\n"
     ]
    }
   ],
   "source": [
    "nuts_gdf.to_file('buffer_nuts.gkpg')"
   ]
  },
  {
   "cell_type": "code",
   "execution_count": null,
   "metadata": {},
   "outputs": [],
   "source": []
  }
 ],
 "metadata": {
  "kernelspec": {
   "display_name": "db-set-up",
   "language": "python",
   "name": "python3"
  },
  "language_info": {
   "codemirror_mode": {
    "name": "ipython",
    "version": 3
   },
   "file_extension": ".py",
   "mimetype": "text/x-python",
   "name": "python",
   "nbconvert_exporter": "python",
   "pygments_lexer": "ipython3",
   "version": "3.10.1"
  }
 },
 "nbformat": 4,
 "nbformat_minor": 2
}
