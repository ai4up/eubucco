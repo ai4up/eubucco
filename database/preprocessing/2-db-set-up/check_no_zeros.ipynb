{
 "cells": [
  {
   "cell_type": "markdown",
   "metadata": {},
   "source": [
    "# Check LAUs and NUTS3 with no buildings\n",
    "\n",
    "We look at the overview files to look for 0s. \n",
    "\n",
    "This is a first sanity check that is complemented with the coverage analysis comparing to GHSL."
   ]
  },
  {
   "cell_type": "code",
   "execution_count": 84,
   "metadata": {},
   "outputs": [],
   "source": [
    "import pandas as pd\n",
    "import os\n",
    "import glob \n",
    "from collections import Counter\n",
    "\n",
    "root = '/home/nmd/Desktop/'"
   ]
  },
  {
   "cell_type": "markdown",
   "metadata": {},
   "source": [
    "# Microsoft\n",
    "\n",
    "There are important gaps.\n",
    "\n",
    "The results are consistent with the map provided by MSFT and our own investigations e.g. via eubucco-analysis. "
   ]
  },
  {
   "cell_type": "code",
   "execution_count": 31,
   "metadata": {},
   "outputs": [],
   "source": [
    "paths_msft = glob.glob(os.path.join(root,'v1','msft_*'))\n",
    "overviews_msft = pd.DataFrame()\n",
    "\n",
    "for path in paths_msft:\n",
    "    tmp = pd.read_csv(path)\n",
    "    tmp.insert(0,'country',os.path.split(path)[1].split('_')[1])\n",
    "    overviews_msft = pd.concat([overviews_msft,tmp])"
   ]
  },
  {
   "cell_type": "code",
   "execution_count": 32,
   "metadata": {},
   "outputs": [
    {
     "data": {
      "text/plain": [
       "Counter({'spain': 4723,\n",
       "         'france': 2719,\n",
       "         'czechia': 1634,\n",
       "         'switzerland': 511,\n",
       "         'italy': 289,\n",
       "         'portugal': 156,\n",
       "         'germany': 137,\n",
       "         'slovakia': 118,\n",
       "         'hungary': 74,\n",
       "         'netherlands': 31,\n",
       "         'estonia': 11,\n",
       "         'norway': 9,\n",
       "         'poland': 9,\n",
       "         'ireland': 5,\n",
       "         'latvia': 3,\n",
       "         'denmark': 3,\n",
       "         'finland': 2,\n",
       "         'sweden': 2,\n",
       "         'lithuania': 2,\n",
       "         'bulgaria': 1,\n",
       "         'uk': 1})"
      ]
     },
     "execution_count": 32,
     "metadata": {},
     "output_type": "execute_result"
    }
   ],
   "source": [
    "# empty laus\n",
    "Counter(overviews_msft[overviews_msft.n_bldgs==0]['country'])"
   ]
  },
  {
   "cell_type": "code",
   "execution_count": 33,
   "metadata": {},
   "outputs": [
    {
     "data": {
      "text/html": [
       "<div>\n",
       "<style scoped>\n",
       "    .dataframe tbody tr th:only-of-type {\n",
       "        vertical-align: middle;\n",
       "    }\n",
       "\n",
       "    .dataframe tbody tr th {\n",
       "        vertical-align: top;\n",
       "    }\n",
       "\n",
       "    .dataframe thead th {\n",
       "        text-align: right;\n",
       "    }\n",
       "</style>\n",
       "<table border=\"1\" class=\"dataframe\">\n",
       "  <thead>\n",
       "    <tr style=\"text-align: right;\">\n",
       "      <th></th>\n",
       "      <th>NUTS3_ID</th>\n",
       "      <th>n_bldgs</th>\n",
       "    </tr>\n",
       "  </thead>\n",
       "  <tbody>\n",
       "    <tr>\n",
       "      <th>114</th>\n",
       "      <td>CH025</td>\n",
       "      <td>0</td>\n",
       "    </tr>\n",
       "    <tr>\n",
       "      <th>115</th>\n",
       "      <td>CH031</td>\n",
       "      <td>0</td>\n",
       "    </tr>\n",
       "    <tr>\n",
       "      <th>116</th>\n",
       "      <td>CH032</td>\n",
       "      <td>0</td>\n",
       "    </tr>\n",
       "    <tr>\n",
       "      <th>146</th>\n",
       "      <td>CZ072</td>\n",
       "      <td>0</td>\n",
       "    </tr>\n",
       "    <tr>\n",
       "      <th>656</th>\n",
       "      <td>ES533</td>\n",
       "      <td>0</td>\n",
       "    </tr>\n",
       "    <tr>\n",
       "      <th>668</th>\n",
       "      <td>ES703</td>\n",
       "      <td>0</td>\n",
       "    </tr>\n",
       "    <tr>\n",
       "      <th>671</th>\n",
       "      <td>ES706</td>\n",
       "      <td>0</td>\n",
       "    </tr>\n",
       "    <tr>\n",
       "      <th>672</th>\n",
       "      <td>ES707</td>\n",
       "      <td>0</td>\n",
       "    </tr>\n",
       "    <tr>\n",
       "      <th>1122</th>\n",
       "      <td>PT200</td>\n",
       "      <td>0</td>\n",
       "    </tr>\n",
       "  </tbody>\n",
       "</table>\n",
       "</div>"
      ],
      "text/plain": [
       "     NUTS3_ID  n_bldgs\n",
       "114     CH025        0\n",
       "115     CH031        0\n",
       "116     CH032        0\n",
       "146     CZ072        0\n",
       "656     ES533        0\n",
       "668     ES703        0\n",
       "671     ES706        0\n",
       "672     ES707        0\n",
       "1122    PT200        0"
      ]
     },
     "execution_count": 33,
     "metadata": {},
     "output_type": "execute_result"
    }
   ],
   "source": [
    "# empty NUTS\n",
    "gb = overviews_msft.groupby('NUTS3_ID')['n_bldgs'].sum().reset_index()\n",
    "gb[gb.n_bldgs==0]"
   ]
  },
  {
   "cell_type": "markdown",
   "metadata": {},
   "source": [
    "# OSM\n",
    "\n",
    "The results are encouraging as relatively few cities are totally empty. \n",
    "\n",
    "At the NUTS level mostly the Canary islands are missing.\n",
    "\n",
    "At the LAU level, results are consistent with our other analyses (lack of coverage in Greece, Romania, Spain, Portugal in particular)."
   ]
  },
  {
   "cell_type": "code",
   "execution_count": 5,
   "metadata": {},
   "outputs": [],
   "source": [
    "paths_osm = glob.glob(os.path.join(root,'v1','osm_*'))"
   ]
  },
  {
   "cell_type": "code",
   "execution_count": 19,
   "metadata": {},
   "outputs": [],
   "source": [
    "overviews_osm = pd.DataFrame()\n",
    "\n",
    "for path in paths_osm:\n",
    "    tmp = pd.read_csv(path)\n",
    "    tmp.insert(0,'country',os.path.split(path)[1].split('_')[1])\n",
    "    overviews_osm = pd.concat([overviews_osm,tmp])"
   ]
  },
  {
   "cell_type": "code",
   "execution_count": 25,
   "metadata": {},
   "outputs": [
    {
     "data": {
      "text/plain": [
       "Counter({'greece': 862,\n",
       "         'romania': 227,\n",
       "         'spain': 176,\n",
       "         'portugal': 53,\n",
       "         'cyprus': 44,\n",
       "         'italy': 20,\n",
       "         'germany': 6,\n",
       "         'switzerland': 4,\n",
       "         'netherlands': 2,\n",
       "         'france': 1})"
      ]
     },
     "execution_count": 25,
     "metadata": {},
     "output_type": "execute_result"
    }
   ],
   "source": [
    "# empty laus\n",
    "Counter(overviews_osm[overviews_osm.n_bldgs==0]['country'])"
   ]
  },
  {
   "cell_type": "code",
   "execution_count": 29,
   "metadata": {},
   "outputs": [],
   "source": [
    "# empty NUTS\n",
    "gb = overviews_osm.groupby('NUTS3_ID')['n_bldgs'].sum().reset_index()"
   ]
  },
  {
   "cell_type": "code",
   "execution_count": 30,
   "metadata": {},
   "outputs": [
    {
     "data": {
      "text/html": [
       "<div>\n",
       "<style scoped>\n",
       "    .dataframe tbody tr th:only-of-type {\n",
       "        vertical-align: middle;\n",
       "    }\n",
       "\n",
       "    .dataframe tbody tr th {\n",
       "        vertical-align: top;\n",
       "    }\n",
       "\n",
       "    .dataframe thead th {\n",
       "        text-align: right;\n",
       "    }\n",
       "</style>\n",
       "<table border=\"1\" class=\"dataframe\">\n",
       "  <thead>\n",
       "    <tr style=\"text-align: right;\">\n",
       "      <th></th>\n",
       "      <th>NUTS3_ID</th>\n",
       "      <th>n_bldgs</th>\n",
       "    </tr>\n",
       "  </thead>\n",
       "  <tbody>\n",
       "    <tr>\n",
       "      <th>308</th>\n",
       "      <td>DE502</td>\n",
       "      <td>0</td>\n",
       "    </tr>\n",
       "    <tr>\n",
       "      <th>668</th>\n",
       "      <td>ES703</td>\n",
       "      <td>0</td>\n",
       "    </tr>\n",
       "    <tr>\n",
       "      <th>669</th>\n",
       "      <td>ES704</td>\n",
       "      <td>0</td>\n",
       "    </tr>\n",
       "    <tr>\n",
       "      <th>670</th>\n",
       "      <td>ES705</td>\n",
       "      <td>0</td>\n",
       "    </tr>\n",
       "    <tr>\n",
       "      <th>671</th>\n",
       "      <td>ES706</td>\n",
       "      <td>0</td>\n",
       "    </tr>\n",
       "    <tr>\n",
       "      <th>672</th>\n",
       "      <td>ES707</td>\n",
       "      <td>0</td>\n",
       "    </tr>\n",
       "    <tr>\n",
       "      <th>673</th>\n",
       "      <td>ES708</td>\n",
       "      <td>0</td>\n",
       "    </tr>\n",
       "    <tr>\n",
       "      <th>674</th>\n",
       "      <td>ES709</td>\n",
       "      <td>0</td>\n",
       "    </tr>\n",
       "  </tbody>\n",
       "</table>\n",
       "</div>"
      ],
      "text/plain": [
       "    NUTS3_ID  n_bldgs\n",
       "308    DE502        0\n",
       "668    ES703        0\n",
       "669    ES704        0\n",
       "670    ES705        0\n",
       "671    ES706        0\n",
       "672    ES707        0\n",
       "673    ES708        0\n",
       "674    ES709        0"
      ]
     },
     "execution_count": 30,
     "metadata": {},
     "output_type": "execute_result"
    }
   ],
   "source": [
    "gb[gb.n_bldgs==0]"
   ]
  },
  {
   "cell_type": "markdown",
   "metadata": {},
   "source": [
    "# Government\n",
    "\n",
    "Here we expect very high coverag rate. \n",
    "\n",
    "Check with is happening with Cyprus, ITH1 and maybe Czecia. Otherwise OK."
   ]
  },
  {
   "cell_type": "code",
   "execution_count": 85,
   "metadata": {},
   "outputs": [],
   "source": [
    "paths_gov = glob.glob(os.path.join(root,'v1','gov_*'))\n",
    "overviews_gov = pd.DataFrame()\n",
    "\n",
    "for path in paths_gov:\n",
    "    tmp = pd.read_csv(path)\n",
    "    tmp.insert(0,'country',os.path.split(path)[1].split('_')[1])\n",
    "    overviews_gov = pd.concat([overviews_gov,tmp])"
   ]
  },
  {
   "cell_type": "code",
   "execution_count": 86,
   "metadata": {},
   "outputs": [],
   "source": [
    "laus_gov = pd.read_csv('../3-choose-msft-osm/laus_gov.csv')"
   ]
  },
  {
   "cell_type": "code",
   "execution_count": 87,
   "metadata": {},
   "outputs": [],
   "source": [
    "overviews_gov = overviews_gov[overviews_gov.LAU_ID.isin(laus_gov.LAU_ID)]"
   ]
  },
  {
   "cell_type": "code",
   "execution_count": 89,
   "metadata": {},
   "outputs": [
    {
     "data": {
      "text/plain": [
       "Counter({'cyprus': 185,\n",
       "         'czechia': 12,\n",
       "         'germany': 4,\n",
       "         'switzerland': 4,\n",
       "         'italy': 2,\n",
       "         'france': 1})"
      ]
     },
     "execution_count": 89,
     "metadata": {},
     "output_type": "execute_result"
    }
   ],
   "source": [
    "# empty laus\n",
    "Counter(overviews_gov[overviews_gov.n_bldgs==0]['country'])"
   ]
  },
  {
   "cell_type": "code",
   "execution_count": 90,
   "metadata": {},
   "outputs": [
    {
     "data": {
      "text/html": [
       "<div>\n",
       "<style scoped>\n",
       "    .dataframe tbody tr th:only-of-type {\n",
       "        vertical-align: middle;\n",
       "    }\n",
       "\n",
       "    .dataframe tbody tr th {\n",
       "        vertical-align: top;\n",
       "    }\n",
       "\n",
       "    .dataframe thead th {\n",
       "        text-align: right;\n",
       "    }\n",
       "</style>\n",
       "<table border=\"1\" class=\"dataframe\">\n",
       "  <thead>\n",
       "    <tr style=\"text-align: right;\">\n",
       "      <th></th>\n",
       "      <th>NUTS3_ID</th>\n",
       "      <th>n_bldgs</th>\n",
       "    </tr>\n",
       "  </thead>\n",
       "  <tbody>\n",
       "  </tbody>\n",
       "</table>\n",
       "</div>"
      ],
      "text/plain": [
       "Empty DataFrame\n",
       "Columns: [NUTS3_ID, n_bldgs]\n",
       "Index: []"
      ]
     },
     "execution_count": 90,
     "metadata": {},
     "output_type": "execute_result"
    }
   ],
   "source": [
    "# empty NUTS\n",
    "gb = overviews_gov.groupby('NUTS3_ID')['n_bldgs'].sum().reset_index()\n",
    "gb[gb.n_bldgs==0]"
   ]
  },
  {
   "cell_type": "markdown",
   "metadata": {},
   "source": [
    "## Issues\n",
    "\n",
    "Cyprus: ok because for gov data no data from the Turkish side. Should we remove these LAUs or combine?\n",
    "Czechia: some random cities"
   ]
  }
 ],
 "metadata": {
  "kernelspec": {
   "display_name": "db-set-up",
   "language": "python",
   "name": "python3"
  },
  "language_info": {
   "codemirror_mode": {
    "name": "ipython",
    "version": 3
   },
   "file_extension": ".py",
   "mimetype": "text/x-python",
   "name": "python",
   "nbconvert_exporter": "python",
   "pygments_lexer": "ipython3",
   "version": "3.10.1"
  }
 },
 "nbformat": 4,
 "nbformat_minor": 2
}
