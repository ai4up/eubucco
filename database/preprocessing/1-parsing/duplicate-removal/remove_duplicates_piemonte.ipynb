{
 "cells": [
  {
   "cell_type": "code",
   "execution_count": 1,
   "metadata": {},
   "outputs": [],
   "source": [
    "import pandas as pd\n",
    "import numpy as np\n",
    "import geopandas as gpd\n",
    "from shapely import wkt\n",
    "import os\n",
    "import sys\n",
    "import matplotlib.pyplot as plt\n",
    "sys.path.append('/home/nmd/Projects/mlup/git-ufo-map')\n",
    "from ufo_map.Utils.helpers import import_csv_w_wkt_to_gdf,save_csv_wkt,get_all_paths\n",
    "CRS_UNI = 'EPSG:3035'"
   ]
  },
  {
   "cell_type": "code",
   "execution_count": 2,
   "metadata": {},
   "outputs": [],
   "source": [
    "path_g = '/media/nmd/Krzrzrz/data-eubucco/Italy/piemonte/piemonte-gov-3035_geoms.csv'\n",
    "path_a = '/media/nmd/Krzrzrz/data-eubucco/Italy/piemonte/piemonte-gov_attrib.csv'\n"
   ]
  },
  {
   "cell_type": "code",
   "execution_count": 3,
   "metadata": {},
   "outputs": [],
   "source": [
    "gdf = import_csv_w_wkt_to_gdf(path_g,CRS_UNI)"
   ]
  },
  {
   "cell_type": "code",
   "execution_count": 4,
   "metadata": {},
   "outputs": [],
   "source": [
    "gdf = pd.concat([gdf,pd.read_csv(path_a).drop(columns=['id'])],axis=1)"
   ]
  },
  {
   "cell_type": "code",
   "execution_count": 14,
   "metadata": {},
   "outputs": [
    {
     "data": {
      "text/html": [
       "<div>\n",
       "<style scoped>\n",
       "    .dataframe tbody tr th:only-of-type {\n",
       "        vertical-align: middle;\n",
       "    }\n",
       "\n",
       "    .dataframe tbody tr th {\n",
       "        vertical-align: top;\n",
       "    }\n",
       "\n",
       "    .dataframe thead th {\n",
       "        text-align: right;\n",
       "    }\n",
       "</style>\n",
       "<table border=\"1\" class=\"dataframe\">\n",
       "  <thead>\n",
       "    <tr style=\"text-align: right;\">\n",
       "      <th></th>\n",
       "      <th>Unnamed: 0</th>\n",
       "      <th>id</th>\n",
       "      <th>geometry</th>\n",
       "      <th>height</th>\n",
       "      <th>type_source</th>\n",
       "      <th>type</th>\n",
       "      <th>age</th>\n",
       "      <th>floors</th>\n",
       "      <th>source_file</th>\n",
       "    </tr>\n",
       "  </thead>\n",
       "  <tbody>\n",
       "    <tr>\n",
       "      <th>0</th>\n",
       "      <td>0</td>\n",
       "      <td>3bdf11ee-90a2-49ae-9e6b-48f26e4f20f4</td>\n",
       "      <td>POLYGON ((4159057.450 2443028.148, 4159070.152...</td>\n",
       "      <td>4.0</td>\n",
       "      <td>1</td>\n",
       "      <td>NaN</td>\n",
       "      <td>NaN</td>\n",
       "      <td>NaN</td>\n",
       "      <td>piemonte_edifc</td>\n",
       "    </tr>\n",
       "    <tr>\n",
       "      <th>1</th>\n",
       "      <td>1</td>\n",
       "      <td>02a7057c-0df4-4feb-91da-f0a0cf8cc9ec</td>\n",
       "      <td>POLYGON ((4158958.933 2443051.331, 4158969.224...</td>\n",
       "      <td>3.0</td>\n",
       "      <td>9</td>\n",
       "      <td>NaN</td>\n",
       "      <td>NaN</td>\n",
       "      <td>NaN</td>\n",
       "      <td>piemonte_edifc</td>\n",
       "    </tr>\n",
       "    <tr>\n",
       "      <th>2</th>\n",
       "      <td>2</td>\n",
       "      <td>f2bf161e-55d9-4c8f-a838-dda833e738a5</td>\n",
       "      <td>POLYGON ((4158826.195 2444011.125, 4158826.144...</td>\n",
       "      <td>3.0</td>\n",
       "      <td>9</td>\n",
       "      <td>NaN</td>\n",
       "      <td>NaN</td>\n",
       "      <td>NaN</td>\n",
       "      <td>piemonte_edifc</td>\n",
       "    </tr>\n",
       "    <tr>\n",
       "      <th>3</th>\n",
       "      <td>3</td>\n",
       "      <td>6be2f757-5adb-4ac0-be0d-71ade9eb359e</td>\n",
       "      <td>POLYGON ((4159085.699 2442890.248, 4159087.235...</td>\n",
       "      <td>6.0</td>\n",
       "      <td>1</td>\n",
       "      <td>NaN</td>\n",
       "      <td>NaN</td>\n",
       "      <td>NaN</td>\n",
       "      <td>piemonte_edifc</td>\n",
       "    </tr>\n",
       "    <tr>\n",
       "      <th>4</th>\n",
       "      <td>4</td>\n",
       "      <td>698dea6b-750b-47f9-8a2d-a22574577abe</td>\n",
       "      <td>POLYGON ((4159187.248 2442378.007, 4159192.468...</td>\n",
       "      <td>5.0</td>\n",
       "      <td>1</td>\n",
       "      <td>NaN</td>\n",
       "      <td>NaN</td>\n",
       "      <td>NaN</td>\n",
       "      <td>piemonte_edifc</td>\n",
       "    </tr>\n",
       "  </tbody>\n",
       "</table>\n",
       "</div>"
      ],
      "text/plain": [
       "   Unnamed: 0                                    id  \\\n",
       "0           0  3bdf11ee-90a2-49ae-9e6b-48f26e4f20f4   \n",
       "1           1  02a7057c-0df4-4feb-91da-f0a0cf8cc9ec   \n",
       "2           2  f2bf161e-55d9-4c8f-a838-dda833e738a5   \n",
       "3           3  6be2f757-5adb-4ac0-be0d-71ade9eb359e   \n",
       "4           4  698dea6b-750b-47f9-8a2d-a22574577abe   \n",
       "\n",
       "                                            geometry  height  type_source  \\\n",
       "0  POLYGON ((4159057.450 2443028.148, 4159070.152...     4.0            1   \n",
       "1  POLYGON ((4158958.933 2443051.331, 4158969.224...     3.0            9   \n",
       "2  POLYGON ((4158826.195 2444011.125, 4158826.144...     3.0            9   \n",
       "3  POLYGON ((4159085.699 2442890.248, 4159087.235...     6.0            1   \n",
       "4  POLYGON ((4159187.248 2442378.007, 4159192.468...     5.0            1   \n",
       "\n",
       "   type  age  floors     source_file  \n",
       "0   NaN  NaN     NaN  piemonte_edifc  \n",
       "1   NaN  NaN     NaN  piemonte_edifc  \n",
       "2   NaN  NaN     NaN  piemonte_edifc  \n",
       "3   NaN  NaN     NaN  piemonte_edifc  \n",
       "4   NaN  NaN     NaN  piemonte_edifc  "
      ]
     },
     "execution_count": 14,
     "metadata": {},
     "output_type": "execute_result"
    }
   ],
   "source": [
    "gdf.head()"
   ]
  },
  {
   "cell_type": "code",
   "execution_count": 15,
   "metadata": {},
   "outputs": [],
   "source": [
    "gdf2 = gdf.loc[gdf.duplicated(subset='id',keep=False)]"
   ]
  },
  {
   "cell_type": "code",
   "execution_count": 16,
   "metadata": {},
   "outputs": [
    {
     "data": {
      "text/plain": [
       "33436"
      ]
     },
     "execution_count": 16,
     "metadata": {},
     "output_type": "execute_result"
    }
   ],
   "source": [
    "len(gdf2)"
   ]
  },
  {
   "cell_type": "code",
   "execution_count": 23,
   "metadata": {},
   "outputs": [
    {
     "data": {
      "text/plain": [
       "<AxesSubplot:>"
      ]
     },
     "execution_count": 23,
     "metadata": {},
     "output_type": "execute_result"
    },
    {
     "data": {
      "image/png": "[encoded data removed]",
      "text/plain": [
       "<Figure size 432x288 with 1 Axes>"
      ]
     },
     "metadata": {
      "needs_background": "light"
     },
     "output_type": "display_data"
    }
   ],
   "source": [
    "gdf2[gdf2.id=='4e473858-0fd2-4601-9999-34e5796b5f02'].plot(column='Unnamed: 0')"
   ]
  },
  {
   "cell_type": "code",
   "execution_count": 25,
   "metadata": {},
   "outputs": [
    {
     "data": {
      "text/plain": [
       "<AxesSubplot:>"
      ]
     },
     "execution_count": 25,
     "metadata": {},
     "output_type": "execute_result"
    },
    {
     "data": {
      "image/png": "[encoded data removed]",
      "text/plain": [
       "<Figure size 432x288 with 1 Axes>"
      ]
     },
     "metadata": {
      "needs_background": "light"
     },
     "output_type": "display_data"
    }
   ],
   "source": [
    "gdf2[gdf2.id=='369b90f4-476b-4810-9417-84d700699c0e'].plot(column='Unnamed: 0')"
   ]
  },
  {
   "cell_type": "code",
   "execution_count": 27,
   "metadata": {},
   "outputs": [
    {
     "name": "stderr",
     "output_type": "stream",
     "text": [
      "/home/nmd/anaconda3/envs/mlup22/lib/python3.10/site-packages/geopandas/geodataframe.py:1351: SettingWithCopyWarning: \n",
      "A value is trying to be set on a copy of a slice from a DataFrame.\n",
      "Try using .loc[row_indexer,col_indexer] = value instead\n",
      "\n",
      "See the caveats in the documentation: https://pandas.pydata.org/pandas-docs/stable/user_guide/indexing.html#returning-a-view-versus-a-copy\n",
      "  super().__setitem__(key, value)\n"
     ]
    }
   ],
   "source": [
    "gdf2['area'] = gdf2.area"
   ]
  },
  {
   "cell_type": "code",
   "execution_count": 32,
   "metadata": {},
   "outputs": [
    {
     "data": {
      "text/plain": [
       "33436"
      ]
     },
     "execution_count": 32,
     "metadata": {},
     "output_type": "execute_result"
    }
   ],
   "source": [
    "len(gdf2)"
   ]
  },
  {
   "cell_type": "code",
   "execution_count": 34,
   "metadata": {},
   "outputs": [],
   "source": [
    "gdf2 = gdf2.drop_duplicates(subset=['id','area'])"
   ]
  },
  {
   "cell_type": "code",
   "execution_count": 35,
   "metadata": {},
   "outputs": [
    {
     "data": {
      "text/html": [
       "<div>\n",
       "<style scoped>\n",
       "    .dataframe tbody tr th:only-of-type {\n",
       "        vertical-align: middle;\n",
       "    }\n",
       "\n",
       "    .dataframe tbody tr th {\n",
       "        vertical-align: top;\n",
       "    }\n",
       "\n",
       "    .dataframe thead th {\n",
       "        text-align: right;\n",
       "    }\n",
       "</style>\n",
       "<table border=\"1\" class=\"dataframe\">\n",
       "  <thead>\n",
       "    <tr style=\"text-align: right;\">\n",
       "      <th></th>\n",
       "      <th>Unnamed: 0</th>\n",
       "      <th>id</th>\n",
       "      <th>geometry</th>\n",
       "      <th>height</th>\n",
       "      <th>type_source</th>\n",
       "      <th>type</th>\n",
       "      <th>age</th>\n",
       "      <th>floors</th>\n",
       "      <th>source_file</th>\n",
       "      <th>area</th>\n",
       "    </tr>\n",
       "  </thead>\n",
       "  <tbody>\n",
       "    <tr>\n",
       "      <th>59</th>\n",
       "      <td>59</td>\n",
       "      <td>4e473858-0fd2-4601-9999-34e5796b5f02</td>\n",
       "      <td>POLYGON ((4157873.402 2445691.929, 4157886.045...</td>\n",
       "      <td>4.000</td>\n",
       "      <td>1</td>\n",
       "      <td>NaN</td>\n",
       "      <td>NaN</td>\n",
       "      <td>NaN</td>\n",
       "      <td>piemonte_edifc</td>\n",
       "      <td>490.900470</td>\n",
       "    </tr>\n",
       "    <tr>\n",
       "      <th>64</th>\n",
       "      <td>64</td>\n",
       "      <td>369b90f4-476b-4810-9417-84d700699c0e</td>\n",
       "      <td>POLYGON ((4158402.186 2443792.742, 4158408.762...</td>\n",
       "      <td>5.000</td>\n",
       "      <td>1</td>\n",
       "      <td>NaN</td>\n",
       "      <td>NaN</td>\n",
       "      <td>NaN</td>\n",
       "      <td>piemonte_edifc</td>\n",
       "      <td>235.061134</td>\n",
       "    </tr>\n",
       "    <tr>\n",
       "      <th>483</th>\n",
       "      <td>483</td>\n",
       "      <td>15b20dcd-67f1-43fd-9e81-14f664a2103a</td>\n",
       "      <td>POLYGON ((4166911.989 2448358.390, 4166913.186...</td>\n",
       "      <td>3.000</td>\n",
       "      <td>1</td>\n",
       "      <td>NaN</td>\n",
       "      <td>NaN</td>\n",
       "      <td>NaN</td>\n",
       "      <td>piemonte_edifc</td>\n",
       "      <td>13.676451</td>\n",
       "    </tr>\n",
       "    <tr>\n",
       "      <th>1016</th>\n",
       "      <td>1016</td>\n",
       "      <td>14b6db79-3c8b-434e-ba12-23dbc36f892f</td>\n",
       "      <td>POLYGON ((4158426.862 2443750.709, 4158425.947...</td>\n",
       "      <td>5.000</td>\n",
       "      <td>1</td>\n",
       "      <td>NaN</td>\n",
       "      <td>NaN</td>\n",
       "      <td>NaN</td>\n",
       "      <td>piemonte_edifc</td>\n",
       "      <td>77.761597</td>\n",
       "    </tr>\n",
       "    <tr>\n",
       "      <th>1293</th>\n",
       "      <td>1293</td>\n",
       "      <td>b34eeed6-d352-486e-9a22-16eb31664bc0</td>\n",
       "      <td>POLYGON ((4178656.550 2429625.445, 4178658.292...</td>\n",
       "      <td>5.042</td>\n",
       "      <td>1</td>\n",
       "      <td>NaN</td>\n",
       "      <td>NaN</td>\n",
       "      <td>NaN</td>\n",
       "      <td>piemonte_edifc</td>\n",
       "      <td>20.238230</td>\n",
       "    </tr>\n",
       "    <tr>\n",
       "      <th>...</th>\n",
       "      <td>...</td>\n",
       "      <td>...</td>\n",
       "      <td>...</td>\n",
       "      <td>...</td>\n",
       "      <td>...</td>\n",
       "      <td>...</td>\n",
       "      <td>...</td>\n",
       "      <td>...</td>\n",
       "      <td>...</td>\n",
       "      <td>...</td>\n",
       "    </tr>\n",
       "    <tr>\n",
       "      <th>2167156</th>\n",
       "      <td>2167156</td>\n",
       "      <td>08199a50-e6d4-11e6-bad0-68b599f40a28</td>\n",
       "      <td>POLYGON ((4169327.708 2376853.983, 4169322.630...</td>\n",
       "      <td>6.481</td>\n",
       "      <td>91</td>\n",
       "      <td>NaN</td>\n",
       "      <td>NaN</td>\n",
       "      <td>NaN</td>\n",
       "      <td>piemonte_edifc</td>\n",
       "      <td>30.655068</td>\n",
       "    </tr>\n",
       "    <tr>\n",
       "      <th>2167158</th>\n",
       "      <td>2167158</td>\n",
       "      <td>0761666a-e6d4-11e6-bad0-68b599f40a28</td>\n",
       "      <td>POLYGON ((4169340.094 2376871.774, 4169343.297...</td>\n",
       "      <td>4.204</td>\n",
       "      <td>91</td>\n",
       "      <td>NaN</td>\n",
       "      <td>NaN</td>\n",
       "      <td>NaN</td>\n",
       "      <td>piemonte_edifc</td>\n",
       "      <td>86.531657</td>\n",
       "    </tr>\n",
       "    <tr>\n",
       "      <th>2167159</th>\n",
       "      <td>2167159</td>\n",
       "      <td>0761666a-e6d4-11e6-bad0-68b599f40a28</td>\n",
       "      <td>POLYGON ((4169334.831 2376860.477, 4169335.158...</td>\n",
       "      <td>1.619</td>\n",
       "      <td>91</td>\n",
       "      <td>NaN</td>\n",
       "      <td>NaN</td>\n",
       "      <td>NaN</td>\n",
       "      <td>piemonte_edifc</td>\n",
       "      <td>27.736202</td>\n",
       "    </tr>\n",
       "    <tr>\n",
       "      <th>2167162</th>\n",
       "      <td>2167162</td>\n",
       "      <td>f7520dd5-c087-4d4b-944b-dd903717de21</td>\n",
       "      <td>POLYGON ((4117221.110 2358410.338, 4117210.222...</td>\n",
       "      <td>7.702</td>\n",
       "      <td>1</td>\n",
       "      <td>NaN</td>\n",
       "      <td>NaN</td>\n",
       "      <td>NaN</td>\n",
       "      <td>piemonte_edifc</td>\n",
       "      <td>131.211041</td>\n",
       "    </tr>\n",
       "    <tr>\n",
       "      <th>2167164</th>\n",
       "      <td>2167164</td>\n",
       "      <td>0053ac32-e17f-415e-809c-74ba8469ed20</td>\n",
       "      <td>POLYGON ((4132720.608 2475717.976, 4132706.128...</td>\n",
       "      <td>5.760</td>\n",
       "      <td>1</td>\n",
       "      <td>NaN</td>\n",
       "      <td>NaN</td>\n",
       "      <td>NaN</td>\n",
       "      <td>piemonte_edifc</td>\n",
       "      <td>156.887561</td>\n",
       "    </tr>\n",
       "  </tbody>\n",
       "</table>\n",
       "<p>30958 rows × 10 columns</p>\n",
       "</div>"
      ],
      "text/plain": [
       "         Unnamed: 0                                    id  \\\n",
       "59               59  4e473858-0fd2-4601-9999-34e5796b5f02   \n",
       "64               64  369b90f4-476b-4810-9417-84d700699c0e   \n",
       "483             483  15b20dcd-67f1-43fd-9e81-14f664a2103a   \n",
       "1016           1016  14b6db79-3c8b-434e-ba12-23dbc36f892f   \n",
       "1293           1293  b34eeed6-d352-486e-9a22-16eb31664bc0   \n",
       "...             ...                                   ...   \n",
       "2167156     2167156  08199a50-e6d4-11e6-bad0-68b599f40a28   \n",
       "2167158     2167158  0761666a-e6d4-11e6-bad0-68b599f40a28   \n",
       "2167159     2167159  0761666a-e6d4-11e6-bad0-68b599f40a28   \n",
       "2167162     2167162  f7520dd5-c087-4d4b-944b-dd903717de21   \n",
       "2167164     2167164  0053ac32-e17f-415e-809c-74ba8469ed20   \n",
       "\n",
       "                                                  geometry  height  \\\n",
       "59       POLYGON ((4157873.402 2445691.929, 4157886.045...   4.000   \n",
       "64       POLYGON ((4158402.186 2443792.742, 4158408.762...   5.000   \n",
       "483      POLYGON ((4166911.989 2448358.390, 4166913.186...   3.000   \n",
       "1016     POLYGON ((4158426.862 2443750.709, 4158425.947...   5.000   \n",
       "1293     POLYGON ((4178656.550 2429625.445, 4178658.292...   5.042   \n",
       "...                                                    ...     ...   \n",
       "2167156  POLYGON ((4169327.708 2376853.983, 4169322.630...   6.481   \n",
       "2167158  POLYGON ((4169340.094 2376871.774, 4169343.297...   4.204   \n",
       "2167159  POLYGON ((4169334.831 2376860.477, 4169335.158...   1.619   \n",
       "2167162  POLYGON ((4117221.110 2358410.338, 4117210.222...   7.702   \n",
       "2167164  POLYGON ((4132720.608 2475717.976, 4132706.128...   5.760   \n",
       "\n",
       "         type_source  type  age  floors     source_file        area  \n",
       "59                 1   NaN  NaN     NaN  piemonte_edifc  490.900470  \n",
       "64                 1   NaN  NaN     NaN  piemonte_edifc  235.061134  \n",
       "483                1   NaN  NaN     NaN  piemonte_edifc   13.676451  \n",
       "1016               1   NaN  NaN     NaN  piemonte_edifc   77.761597  \n",
       "1293               1   NaN  NaN     NaN  piemonte_edifc   20.238230  \n",
       "...              ...   ...  ...     ...             ...         ...  \n",
       "2167156           91   NaN  NaN     NaN  piemonte_edifc   30.655068  \n",
       "2167158           91   NaN  NaN     NaN  piemonte_edifc   86.531657  \n",
       "2167159           91   NaN  NaN     NaN  piemonte_edifc   27.736202  \n",
       "2167162            1   NaN  NaN     NaN  piemonte_edifc  131.211041  \n",
       "2167164            1   NaN  NaN     NaN  piemonte_edifc  156.887561  \n",
       "\n",
       "[30958 rows x 10 columns]"
      ]
     },
     "execution_count": 35,
     "metadata": {},
     "output_type": "execute_result"
    }
   ],
   "source": [
    "gdf2"
   ]
  },
  {
   "cell_type": "code",
   "execution_count": 39,
   "metadata": {},
   "outputs": [
    {
     "data": {
      "text/html": [
       "<div>\n",
       "<style scoped>\n",
       "    .dataframe tbody tr th:only-of-type {\n",
       "        vertical-align: middle;\n",
       "    }\n",
       "\n",
       "    .dataframe tbody tr th {\n",
       "        vertical-align: top;\n",
       "    }\n",
       "\n",
       "    .dataframe thead th {\n",
       "        text-align: right;\n",
       "    }\n",
       "</style>\n",
       "<table border=\"1\" class=\"dataframe\">\n",
       "  <thead>\n",
       "    <tr style=\"text-align: right;\">\n",
       "      <th></th>\n",
       "      <th>geometry</th>\n",
       "      <th>Unnamed: 0</th>\n",
       "      <th>id</th>\n",
       "      <th>height</th>\n",
       "      <th>type_source</th>\n",
       "      <th>type</th>\n",
       "      <th>age</th>\n",
       "      <th>floors</th>\n",
       "      <th>source_file</th>\n",
       "      <th>area</th>\n",
       "    </tr>\n",
       "  </thead>\n",
       "  <tbody>\n",
       "    <tr>\n",
       "      <th>0</th>\n",
       "      <td>POLYGON ((4169335.158 2376859.745, 4169335.685...</td>\n",
       "      <td>2167158</td>\n",
       "      <td>0761666a-e6d4-11e6-bad0-68b599f40a28</td>\n",
       "      <td>4.204</td>\n",
       "      <td>91</td>\n",
       "      <td>NaN</td>\n",
       "      <td>NaN</td>\n",
       "      <td>NaN</td>\n",
       "      <td>piemonte_edifc</td>\n",
       "      <td>86.531657</td>\n",
       "    </tr>\n",
       "  </tbody>\n",
       "</table>\n",
       "</div>"
      ],
      "text/plain": [
       "                                            geometry  Unnamed: 0  \\\n",
       "0  POLYGON ((4169335.158 2376859.745, 4169335.685...     2167158   \n",
       "\n",
       "                                     id  height  type_source  type  age  \\\n",
       "0  0761666a-e6d4-11e6-bad0-68b599f40a28   4.204           91   NaN  NaN   \n",
       "\n",
       "   floors     source_file       area  \n",
       "0     NaN  piemonte_edifc  86.531657  "
      ]
     },
     "execution_count": 39,
     "metadata": {},
     "output_type": "execute_result"
    }
   ],
   "source": [
    "gdf2[gdf2.id=='0761666a-e6d4-11e6-bad0-68b599f40a28'].dissolve()"
   ]
  },
  {
   "cell_type": "code",
   "execution_count": 44,
   "metadata": {},
   "outputs": [
    {
     "data": {
      "text/html": [
       "<div>\n",
       "<style scoped>\n",
       "    .dataframe tbody tr th:only-of-type {\n",
       "        vertical-align: middle;\n",
       "    }\n",
       "\n",
       "    .dataframe tbody tr th {\n",
       "        vertical-align: top;\n",
       "    }\n",
       "\n",
       "    .dataframe thead th {\n",
       "        text-align: right;\n",
       "    }\n",
       "</style>\n",
       "<table border=\"1\" class=\"dataframe\">\n",
       "  <thead>\n",
       "    <tr style=\"text-align: right;\">\n",
       "      <th></th>\n",
       "      <th>Unnamed: 0</th>\n",
       "      <th>id</th>\n",
       "      <th>geometry</th>\n",
       "      <th>height</th>\n",
       "      <th>type_source</th>\n",
       "      <th>type</th>\n",
       "      <th>age</th>\n",
       "      <th>floors</th>\n",
       "      <th>source_file</th>\n",
       "      <th>area</th>\n",
       "    </tr>\n",
       "  </thead>\n",
       "  <tbody>\n",
       "    <tr>\n",
       "      <th>1293</th>\n",
       "      <td>1293</td>\n",
       "      <td>b34eeed6-d352-486e-9a22-16eb31664bc0</td>\n",
       "      <td>POLYGON ((4178656.550 2429625.445, 4178658.292...</td>\n",
       "      <td>5.042</td>\n",
       "      <td>1</td>\n",
       "      <td>NaN</td>\n",
       "      <td>NaN</td>\n",
       "      <td>NaN</td>\n",
       "      <td>piemonte_edifc</td>\n",
       "      <td>20.238230</td>\n",
       "    </tr>\n",
       "    <tr>\n",
       "      <th>1294</th>\n",
       "      <td>1294</td>\n",
       "      <td>b34eeed6-d352-486e-9a22-16eb31664bc0</td>\n",
       "      <td>POLYGON ((4178652.825 2429616.384, 4178652.918...</td>\n",
       "      <td>6.187</td>\n",
       "      <td>1</td>\n",
       "      <td>NaN</td>\n",
       "      <td>NaN</td>\n",
       "      <td>NaN</td>\n",
       "      <td>piemonte_edifc</td>\n",
       "      <td>277.977173</td>\n",
       "    </tr>\n",
       "    <tr>\n",
       "      <th>1295</th>\n",
       "      <td>1295</td>\n",
       "      <td>b34eeed6-d352-486e-9a22-16eb31664bc0</td>\n",
       "      <td>POLYGON ((4178661.590 2429595.682, 4178661.634...</td>\n",
       "      <td>5.227</td>\n",
       "      <td>1</td>\n",
       "      <td>NaN</td>\n",
       "      <td>NaN</td>\n",
       "      <td>NaN</td>\n",
       "      <td>piemonte_edifc</td>\n",
       "      <td>21.108977</td>\n",
       "    </tr>\n",
       "  </tbody>\n",
       "</table>\n",
       "</div>"
      ],
      "text/plain": [
       "      Unnamed: 0                                    id  \\\n",
       "1293        1293  b34eeed6-d352-486e-9a22-16eb31664bc0   \n",
       "1294        1294  b34eeed6-d352-486e-9a22-16eb31664bc0   \n",
       "1295        1295  b34eeed6-d352-486e-9a22-16eb31664bc0   \n",
       "\n",
       "                                               geometry  height  type_source  \\\n",
       "1293  POLYGON ((4178656.550 2429625.445, 4178658.292...   5.042            1   \n",
       "1294  POLYGON ((4178652.825 2429616.384, 4178652.918...   6.187            1   \n",
       "1295  POLYGON ((4178661.590 2429595.682, 4178661.634...   5.227            1   \n",
       "\n",
       "      type  age  floors     source_file        area  \n",
       "1293   NaN  NaN     NaN  piemonte_edifc   20.238230  \n",
       "1294   NaN  NaN     NaN  piemonte_edifc  277.977173  \n",
       "1295   NaN  NaN     NaN  piemonte_edifc   21.108977  "
      ]
     },
     "execution_count": 44,
     "metadata": {},
     "output_type": "execute_result"
    }
   ],
   "source": [
    "gdf2[gdf2.id=='b34eeed6-d352-486e-9a22-16eb31664bc0']"
   ]
  },
  {
   "cell_type": "markdown",
   "metadata": {},
   "source": [
    "## Run"
   ]
  },
  {
   "cell_type": "code",
   "execution_count": 5,
   "metadata": {},
   "outputs": [],
   "source": [
    "gdf = gdf.sort_values(by='height')"
   ]
  },
  {
   "cell_type": "code",
   "execution_count": 6,
   "metadata": {},
   "outputs": [],
   "source": [
    "gdf = gdf.dissolve(by='id')"
   ]
  },
  {
   "cell_type": "code",
   "execution_count": 7,
   "metadata": {},
   "outputs": [],
   "source": [
    "gdf = gdf.drop(columns=['Unnamed: 0'])"
   ]
  },
  {
   "cell_type": "code",
   "execution_count": 11,
   "metadata": {},
   "outputs": [],
   "source": [
    "gdf['id'] = gdf.index"
   ]
  },
  {
   "cell_type": "code",
   "execution_count": 13,
   "metadata": {},
   "outputs": [
    {
     "data": {
      "text/html": [
       "<div>\n",
       "<style scoped>\n",
       "    .dataframe tbody tr th:only-of-type {\n",
       "        vertical-align: middle;\n",
       "    }\n",
       "\n",
       "    .dataframe tbody tr th {\n",
       "        vertical-align: top;\n",
       "    }\n",
       "\n",
       "    .dataframe thead th {\n",
       "        text-align: right;\n",
       "    }\n",
       "</style>\n",
       "<table border=\"1\" class=\"dataframe\">\n",
       "  <thead>\n",
       "    <tr style=\"text-align: right;\">\n",
       "      <th></th>\n",
       "      <th>geometry</th>\n",
       "      <th>height</th>\n",
       "      <th>type_source</th>\n",
       "      <th>type</th>\n",
       "      <th>age</th>\n",
       "      <th>floors</th>\n",
       "      <th>source_file</th>\n",
       "      <th>id</th>\n",
       "    </tr>\n",
       "    <tr>\n",
       "      <th>id</th>\n",
       "      <th></th>\n",
       "      <th></th>\n",
       "      <th></th>\n",
       "      <th></th>\n",
       "      <th></th>\n",
       "      <th></th>\n",
       "      <th></th>\n",
       "      <th></th>\n",
       "    </tr>\n",
       "  </thead>\n",
       "  <tbody>\n",
       "    <tr>\n",
       "      <th>00000b20-90c8-4b55-9a0a-20a375a1fb7d</th>\n",
       "      <td>POLYGON ((4153638.588 2340966.283, 4153638.728...</td>\n",
       "      <td>5.0</td>\n",
       "      <td>1</td>\n",
       "      <td>NaN</td>\n",
       "      <td>NaN</td>\n",
       "      <td>NaN</td>\n",
       "      <td>piemonte_edifc</td>\n",
       "      <td>00000b20-90c8-4b55-9a0a-20a375a1fb7d</td>\n",
       "    </tr>\n",
       "    <tr>\n",
       "      <th>00000ef0-3ef5-433b-b809-2e138706013e</th>\n",
       "      <td>POLYGON ((4067416.567 2444178.093, 4067416.635...</td>\n",
       "      <td>5.0</td>\n",
       "      <td>101</td>\n",
       "      <td>NaN</td>\n",
       "      <td>NaN</td>\n",
       "      <td>NaN</td>\n",
       "      <td>piemonte_edifc</td>\n",
       "      <td>00000ef0-3ef5-433b-b809-2e138706013e</td>\n",
       "    </tr>\n",
       "    <tr>\n",
       "      <th>000010ff-6cdb-46ab-b672-1bd371a62ebb</th>\n",
       "      <td>POLYGON ((4117090.586 2427329.851, 4117093.005...</td>\n",
       "      <td>7.0</td>\n",
       "      <td>1</td>\n",
       "      <td>NaN</td>\n",
       "      <td>NaN</td>\n",
       "      <td>NaN</td>\n",
       "      <td>piemonte_edifc</td>\n",
       "      <td>000010ff-6cdb-46ab-b672-1bd371a62ebb</td>\n",
       "    </tr>\n",
       "    <tr>\n",
       "      <th>0000182e-2c95-4a42-878d-505ee9aa15c9</th>\n",
       "      <td>POLYGON ((4107482.903 2408225.904, 4107478.837...</td>\n",
       "      <td>4.0</td>\n",
       "      <td>1</td>\n",
       "      <td>NaN</td>\n",
       "      <td>NaN</td>\n",
       "      <td>NaN</td>\n",
       "      <td>piemonte_edifc</td>\n",
       "      <td>0000182e-2c95-4a42-878d-505ee9aa15c9</td>\n",
       "    </tr>\n",
       "    <tr>\n",
       "      <th>00001cd5-1412-4b5f-91ac-5ef48e55606c</th>\n",
       "      <td>POLYGON ((4140423.754 2430110.120, 4140425.538...</td>\n",
       "      <td>5.0</td>\n",
       "      <td>1</td>\n",
       "      <td>NaN</td>\n",
       "      <td>NaN</td>\n",
       "      <td>NaN</td>\n",
       "      <td>piemonte_edifc</td>\n",
       "      <td>00001cd5-1412-4b5f-91ac-5ef48e55606c</td>\n",
       "    </tr>\n",
       "  </tbody>\n",
       "</table>\n",
       "</div>"
      ],
      "text/plain": [
       "                                                                               geometry  \\\n",
       "id                                                                                        \n",
       "00000b20-90c8-4b55-9a0a-20a375a1fb7d  POLYGON ((4153638.588 2340966.283, 4153638.728...   \n",
       "00000ef0-3ef5-433b-b809-2e138706013e  POLYGON ((4067416.567 2444178.093, 4067416.635...   \n",
       "000010ff-6cdb-46ab-b672-1bd371a62ebb  POLYGON ((4117090.586 2427329.851, 4117093.005...   \n",
       "0000182e-2c95-4a42-878d-505ee9aa15c9  POLYGON ((4107482.903 2408225.904, 4107478.837...   \n",
       "00001cd5-1412-4b5f-91ac-5ef48e55606c  POLYGON ((4140423.754 2430110.120, 4140425.538...   \n",
       "\n",
       "                                      height  type_source  type  age  floors  \\\n",
       "id                                                                             \n",
       "00000b20-90c8-4b55-9a0a-20a375a1fb7d     5.0            1   NaN  NaN     NaN   \n",
       "00000ef0-3ef5-433b-b809-2e138706013e     5.0          101   NaN  NaN     NaN   \n",
       "000010ff-6cdb-46ab-b672-1bd371a62ebb     7.0            1   NaN  NaN     NaN   \n",
       "0000182e-2c95-4a42-878d-505ee9aa15c9     4.0            1   NaN  NaN     NaN   \n",
       "00001cd5-1412-4b5f-91ac-5ef48e55606c     5.0            1   NaN  NaN     NaN   \n",
       "\n",
       "                                         source_file  \\\n",
       "id                                                     \n",
       "00000b20-90c8-4b55-9a0a-20a375a1fb7d  piemonte_edifc   \n",
       "00000ef0-3ef5-433b-b809-2e138706013e  piemonte_edifc   \n",
       "000010ff-6cdb-46ab-b672-1bd371a62ebb  piemonte_edifc   \n",
       "0000182e-2c95-4a42-878d-505ee9aa15c9  piemonte_edifc   \n",
       "00001cd5-1412-4b5f-91ac-5ef48e55606c  piemonte_edifc   \n",
       "\n",
       "                                                                        id  \n",
       "id                                                                          \n",
       "00000b20-90c8-4b55-9a0a-20a375a1fb7d  00000b20-90c8-4b55-9a0a-20a375a1fb7d  \n",
       "00000ef0-3ef5-433b-b809-2e138706013e  00000ef0-3ef5-433b-b809-2e138706013e  \n",
       "000010ff-6cdb-46ab-b672-1bd371a62ebb  000010ff-6cdb-46ab-b672-1bd371a62ebb  \n",
       "0000182e-2c95-4a42-878d-505ee9aa15c9  0000182e-2c95-4a42-878d-505ee9aa15c9  \n",
       "00001cd5-1412-4b5f-91ac-5ef48e55606c  00001cd5-1412-4b5f-91ac-5ef48e55606c  "
      ]
     },
     "execution_count": 13,
     "metadata": {},
     "output_type": "execute_result"
    }
   ],
   "source": [
    "gdf.head()"
   ]
  },
  {
   "cell_type": "code",
   "execution_count": 14,
   "metadata": {},
   "outputs": [
    {
     "name": "stderr",
     "output_type": "stream",
     "text": [
      "/home/nmd/anaconda3/envs/mlup22/lib/python3.10/site-packages/geopandas/geodataframe.py:1350: UserWarning: Geometry column does not contain geometry.\n",
      "  warnings.warn(\"Geometry column does not contain geometry.\")\n",
      "/home/nmd/anaconda3/envs/mlup22/lib/python3.10/site-packages/geopandas/geodataframe.py:1351: SettingWithCopyWarning: \n",
      "A value is trying to be set on a copy of a slice from a DataFrame.\n",
      "Try using .loc[row_indexer,col_indexer] = value instead\n",
      "\n",
      "See the caveats in the documentation: https://pandas.pydata.org/pandas-docs/stable/user_guide/indexing.html#returning-a-view-versus-a-copy\n",
      "  super().__setitem__(key, value)\n"
     ]
    }
   ],
   "source": [
    "save_csv_wkt(gdf[['id','geometry']],'/media/nmd/Krzrzrz/data-eubucco/Italy/piemonte/piemonte-gov-3035_geoms_clean.csv')\n"
   ]
  },
  {
   "cell_type": "code",
   "execution_count": 15,
   "metadata": {},
   "outputs": [],
   "source": [
    "gdf.drop(columns=['geometry']).to_csv('/media/nmd/Krzrzrz/data-eubucco/Italy/piemonte/piemonte-gov-attrib_clean.csv',index=False)"
   ]
  },
  {
   "cell_type": "code",
   "execution_count": null,
   "metadata": {},
   "outputs": [],
   "source": []
  }
 ],
 "metadata": {
  "interpreter": {
   "hash": "b58090f9247337cbd60dec117335c272f6bd672d798f1088f056b3eb69a1e06b"
  },
  "kernelspec": {
   "display_name": "Python 3.10.4 ('mlup22')",
   "language": "python",
   "name": "python3"
  },
  "language_info": {
   "codemirror_mode": {
    "name": "ipython",
    "version": 3
   },
   "file_extension": ".py",
   "mimetype": "text/x-python",
   "name": "python",
   "nbconvert_exporter": "python",
   "pygments_lexer": "ipython3",
   "version": "3.10.4"
  },
  "orig_nbformat": 4
 },
 "nbformat": 4,
 "nbformat_minor": 2
}
