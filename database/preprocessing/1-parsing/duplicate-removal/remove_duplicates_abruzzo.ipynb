{
 "cells": [
  {
   "cell_type": "code",
   "execution_count": 2,
   "metadata": {},
   "outputs": [],
   "source": [
    "import pandas as pd\n",
    "import numpy as np\n",
    "import geopandas as gpd\n",
    "from shapely import wkt\n",
    "import os\n",
    "import sys\n",
    "import matplotlib.pyplot as plt\n",
    "sys.path.append('/home/nmd/Projects/mlup/git-ufo-map')\n",
    "from ufo_map.Utils.helpers import import_csv_w_wkt_to_gdf,save_csv_wkt,get_all_paths\n",
    "CRS_UNI = 'EPSG:3035'"
   ]
  },
  {
   "cell_type": "code",
   "execution_count": 5,
   "metadata": {},
   "outputs": [],
   "source": [
    "## read in chunks\n",
    "path = '/media/nmd/Krzrzrz/data-eubucco/Italy/abruzzo/abruzzo-gov-3035_geoms.csv'\n",
    "chunksize = int(3e4)"
   ]
  },
  {
   "cell_type": "code",
   "execution_count": 40,
   "metadata": {},
   "outputs": [],
   "source": [
    "df = pd.read_csv('/media/nmd/Krzrzrz/data-eubucco/Italy/abruzzo/abruzzo-gov_attrib.csv').drop(columns=['id'])"
   ]
  },
  {
   "cell_type": "code",
   "execution_count": 41,
   "metadata": {},
   "outputs": [],
   "source": [
    "gdf = import_csv_w_wkt_to_gdf(path,CRS_UNI)"
   ]
  },
  {
   "cell_type": "code",
   "execution_count": 42,
   "metadata": {},
   "outputs": [],
   "source": [
    "gdf = pd.concat([gdf,df],axis=1)"
   ]
  },
  {
   "cell_type": "code",
   "execution_count": 43,
   "metadata": {},
   "outputs": [
    {
     "data": {
      "text/plain": [
       "303242"
      ]
     },
     "execution_count": 43,
     "metadata": {},
     "output_type": "execute_result"
    }
   ],
   "source": [
    "len(gdf)"
   ]
  },
  {
   "cell_type": "code",
   "execution_count": 44,
   "metadata": {},
   "outputs": [
    {
     "data": {
      "text/html": [
       "<div>\n",
       "<style scoped>\n",
       "    .dataframe tbody tr th:only-of-type {\n",
       "        vertical-align: middle;\n",
       "    }\n",
       "\n",
       "    .dataframe tbody tr th {\n",
       "        vertical-align: top;\n",
       "    }\n",
       "\n",
       "    .dataframe thead th {\n",
       "        text-align: right;\n",
       "    }\n",
       "</style>\n",
       "<table border=\"1\" class=\"dataframe\">\n",
       "  <thead>\n",
       "    <tr style=\"text-align: right;\">\n",
       "      <th></th>\n",
       "      <th>Unnamed: 0</th>\n",
       "      <th>id</th>\n",
       "      <th>geometry</th>\n",
       "      <th>height</th>\n",
       "      <th>type_source</th>\n",
       "      <th>type</th>\n",
       "      <th>age</th>\n",
       "      <th>floors</th>\n",
       "      <th>source_file</th>\n",
       "    </tr>\n",
       "  </thead>\n",
       "  <tbody>\n",
       "    <tr>\n",
       "      <th>2306</th>\n",
       "      <td>2306</td>\n",
       "      <td>1345250.0</td>\n",
       "      <td>POLYGON ((4616119.834 2087143.170, 4616107.570...</td>\n",
       "      <td>6.49</td>\n",
       "      <td>Industriale</td>\n",
       "      <td>NaN</td>\n",
       "      <td>NaN</td>\n",
       "      <td>NaN</td>\n",
       "      <td>CR01G_EDIFICI</td>\n",
       "    </tr>\n",
       "    <tr>\n",
       "      <th>2755</th>\n",
       "      <td>2755</td>\n",
       "      <td>1426965.0</td>\n",
       "      <td>POLYGON ((4674173.246 2108427.959, 4674168.366...</td>\n",
       "      <td>6.92</td>\n",
       "      <td>Abitativa</td>\n",
       "      <td>NaN</td>\n",
       "      <td>NaN</td>\n",
       "      <td>NaN</td>\n",
       "      <td>CR01G_EDIFICI</td>\n",
       "    </tr>\n",
       "    <tr>\n",
       "      <th>2851</th>\n",
       "      <td>2851</td>\n",
       "      <td>1427484.0</td>\n",
       "      <td>POLYGON ((4674127.887 2109220.241, 4674128.183...</td>\n",
       "      <td>8.31</td>\n",
       "      <td>Abitativa</td>\n",
       "      <td>NaN</td>\n",
       "      <td>NaN</td>\n",
       "      <td>NaN</td>\n",
       "      <td>CR01G_EDIFICI</td>\n",
       "    </tr>\n",
       "    <tr>\n",
       "      <th>4072</th>\n",
       "      <td>4072</td>\n",
       "      <td>1362022.0</td>\n",
       "      <td>POLYGON ((4616677.546 2087063.677, 4616677.546...</td>\n",
       "      <td>3.44</td>\n",
       "      <td>Abitativa</td>\n",
       "      <td>NaN</td>\n",
       "      <td>NaN</td>\n",
       "      <td>NaN</td>\n",
       "      <td>CR01G_EDIFICI</td>\n",
       "    </tr>\n",
       "    <tr>\n",
       "      <th>4259</th>\n",
       "      <td>4259</td>\n",
       "      <td>1286186.0</td>\n",
       "      <td>POLYGON ((4617501.266 2087103.405, 4617501.267...</td>\n",
       "      <td>4.04</td>\n",
       "      <td>Agricolturale</td>\n",
       "      <td>NaN</td>\n",
       "      <td>NaN</td>\n",
       "      <td>NaN</td>\n",
       "      <td>CR01G_EDIFICI</td>\n",
       "    </tr>\n",
       "    <tr>\n",
       "      <th>...</th>\n",
       "      <td>...</td>\n",
       "      <td>...</td>\n",
       "      <td>...</td>\n",
       "      <td>...</td>\n",
       "      <td>...</td>\n",
       "      <td>...</td>\n",
       "      <td>...</td>\n",
       "      <td>...</td>\n",
       "      <td>...</td>\n",
       "    </tr>\n",
       "    <tr>\n",
       "      <th>302535</th>\n",
       "      <td>302535</td>\n",
       "      <td>1357726.0</td>\n",
       "      <td>POLYGON ((4664711.372 2157323.461, 4664711.372...</td>\n",
       "      <td>8.42</td>\n",
       "      <td>Industriale</td>\n",
       "      <td>NaN</td>\n",
       "      <td>NaN</td>\n",
       "      <td>NaN</td>\n",
       "      <td>CR01G_EDIFICI</td>\n",
       "    </tr>\n",
       "    <tr>\n",
       "      <th>302547</th>\n",
       "      <td>302547</td>\n",
       "      <td>1351267.0</td>\n",
       "      <td>POLYGON ((4664775.805 2156075.883, 4664775.806...</td>\n",
       "      <td>9.60</td>\n",
       "      <td>Industriale</td>\n",
       "      <td>NaN</td>\n",
       "      <td>NaN</td>\n",
       "      <td>NaN</td>\n",
       "      <td>CR01G_EDIFICI</td>\n",
       "    </tr>\n",
       "    <tr>\n",
       "      <th>302553</th>\n",
       "      <td>302553</td>\n",
       "      <td>1351470.0</td>\n",
       "      <td>POLYGON ((4661298.935 2157152.901, 4661298.935...</td>\n",
       "      <td>12.37</td>\n",
       "      <td>Industriale</td>\n",
       "      <td>NaN</td>\n",
       "      <td>NaN</td>\n",
       "      <td>NaN</td>\n",
       "      <td>CR01G_EDIFICI</td>\n",
       "    </tr>\n",
       "    <tr>\n",
       "      <th>303187</th>\n",
       "      <td>303187</td>\n",
       "      <td>1302270.0</td>\n",
       "      <td>POLYGON ((4611282.507 2131137.757, 4611282.985...</td>\n",
       "      <td>4.44</td>\n",
       "      <td>Agricolturale</td>\n",
       "      <td>NaN</td>\n",
       "      <td>NaN</td>\n",
       "      <td>NaN</td>\n",
       "      <td>CR01G_EDIFICI</td>\n",
       "    </tr>\n",
       "    <tr>\n",
       "      <th>303188</th>\n",
       "      <td>303188</td>\n",
       "      <td>1327799.0</td>\n",
       "      <td>POLYGON ((4611284.264 2131119.942, 4611282.985...</td>\n",
       "      <td>4.00</td>\n",
       "      <td>Agricolturale</td>\n",
       "      <td>NaN</td>\n",
       "      <td>NaN</td>\n",
       "      <td>NaN</td>\n",
       "      <td>CR01G_EDIFICI</td>\n",
       "    </tr>\n",
       "  </tbody>\n",
       "</table>\n",
       "<p>6813 rows × 9 columns</p>\n",
       "</div>"
      ],
      "text/plain": [
       "        Unnamed: 0         id  \\\n",
       "2306          2306  1345250.0   \n",
       "2755          2755  1426965.0   \n",
       "2851          2851  1427484.0   \n",
       "4072          4072  1362022.0   \n",
       "4259          4259  1286186.0   \n",
       "...            ...        ...   \n",
       "302535      302535  1357726.0   \n",
       "302547      302547  1351267.0   \n",
       "302553      302553  1351470.0   \n",
       "303187      303187  1302270.0   \n",
       "303188      303188  1327799.0   \n",
       "\n",
       "                                                 geometry  height  \\\n",
       "2306    POLYGON ((4616119.834 2087143.170, 4616107.570...    6.49   \n",
       "2755    POLYGON ((4674173.246 2108427.959, 4674168.366...    6.92   \n",
       "2851    POLYGON ((4674127.887 2109220.241, 4674128.183...    8.31   \n",
       "4072    POLYGON ((4616677.546 2087063.677, 4616677.546...    3.44   \n",
       "4259    POLYGON ((4617501.266 2087103.405, 4617501.267...    4.04   \n",
       "...                                                   ...     ...   \n",
       "302535  POLYGON ((4664711.372 2157323.461, 4664711.372...    8.42   \n",
       "302547  POLYGON ((4664775.805 2156075.883, 4664775.806...    9.60   \n",
       "302553  POLYGON ((4661298.935 2157152.901, 4661298.935...   12.37   \n",
       "303187  POLYGON ((4611282.507 2131137.757, 4611282.985...    4.44   \n",
       "303188  POLYGON ((4611284.264 2131119.942, 4611282.985...    4.00   \n",
       "\n",
       "          type_source  type  age  floors    source_file  \n",
       "2306      Industriale   NaN  NaN     NaN  CR01G_EDIFICI  \n",
       "2755        Abitativa   NaN  NaN     NaN  CR01G_EDIFICI  \n",
       "2851        Abitativa   NaN  NaN     NaN  CR01G_EDIFICI  \n",
       "4072        Abitativa   NaN  NaN     NaN  CR01G_EDIFICI  \n",
       "4259    Agricolturale   NaN  NaN     NaN  CR01G_EDIFICI  \n",
       "...               ...   ...  ...     ...            ...  \n",
       "302535    Industriale   NaN  NaN     NaN  CR01G_EDIFICI  \n",
       "302547    Industriale   NaN  NaN     NaN  CR01G_EDIFICI  \n",
       "302553    Industriale   NaN  NaN     NaN  CR01G_EDIFICI  \n",
       "303187  Agricolturale   NaN  NaN     NaN  CR01G_EDIFICI  \n",
       "303188  Agricolturale   NaN  NaN     NaN  CR01G_EDIFICI  \n",
       "\n",
       "[6813 rows x 9 columns]"
      ]
     },
     "execution_count": 44,
     "metadata": {},
     "output_type": "execute_result"
    }
   ],
   "source": [
    "gdf.loc[gdf.duplicated(subset='id')]"
   ]
  },
  {
   "cell_type": "code",
   "execution_count": 45,
   "metadata": {},
   "outputs": [
    {
     "data": {
      "text/html": [
       "<div>\n",
       "<style scoped>\n",
       "    .dataframe tbody tr th:only-of-type {\n",
       "        vertical-align: middle;\n",
       "    }\n",
       "\n",
       "    .dataframe tbody tr th {\n",
       "        vertical-align: top;\n",
       "    }\n",
       "\n",
       "    .dataframe thead th {\n",
       "        text-align: right;\n",
       "    }\n",
       "</style>\n",
       "<table border=\"1\" class=\"dataframe\">\n",
       "  <thead>\n",
       "    <tr style=\"text-align: right;\">\n",
       "      <th></th>\n",
       "      <th>Unnamed: 0</th>\n",
       "      <th>id</th>\n",
       "      <th>geometry</th>\n",
       "      <th>height</th>\n",
       "      <th>type_source</th>\n",
       "      <th>type</th>\n",
       "      <th>age</th>\n",
       "      <th>floors</th>\n",
       "      <th>source_file</th>\n",
       "    </tr>\n",
       "  </thead>\n",
       "  <tbody>\n",
       "    <tr>\n",
       "      <th>1001</th>\n",
       "      <td>1001</td>\n",
       "      <td>1345250.0</td>\n",
       "      <td>POLYGON ((4616165.131 2087179.837, 4616142.282...</td>\n",
       "      <td>6.49</td>\n",
       "      <td>Industriale</td>\n",
       "      <td>NaN</td>\n",
       "      <td>NaN</td>\n",
       "      <td>NaN</td>\n",
       "      <td>CR01G_EDIFICI</td>\n",
       "    </tr>\n",
       "    <tr>\n",
       "      <th>2306</th>\n",
       "      <td>2306</td>\n",
       "      <td>1345250.0</td>\n",
       "      <td>POLYGON ((4616119.834 2087143.170, 4616107.570...</td>\n",
       "      <td>6.49</td>\n",
       "      <td>Industriale</td>\n",
       "      <td>NaN</td>\n",
       "      <td>NaN</td>\n",
       "      <td>NaN</td>\n",
       "      <td>CR01G_EDIFICI</td>\n",
       "    </tr>\n",
       "  </tbody>\n",
       "</table>\n",
       "</div>"
      ],
      "text/plain": [
       "      Unnamed: 0         id  \\\n",
       "1001        1001  1345250.0   \n",
       "2306        2306  1345250.0   \n",
       "\n",
       "                                               geometry  height  type_source  \\\n",
       "1001  POLYGON ((4616165.131 2087179.837, 4616142.282...    6.49  Industriale   \n",
       "2306  POLYGON ((4616119.834 2087143.170, 4616107.570...    6.49  Industriale   \n",
       "\n",
       "      type  age  floors    source_file  \n",
       "1001   NaN  NaN     NaN  CR01G_EDIFICI  \n",
       "2306   NaN  NaN     NaN  CR01G_EDIFICI  "
      ]
     },
     "execution_count": 45,
     "metadata": {},
     "output_type": "execute_result"
    }
   ],
   "source": [
    "gdf.loc[gdf.id==1345250.0]"
   ]
  },
  {
   "cell_type": "code",
   "execution_count": null,
   "metadata": {},
   "outputs": [
    {
     "data": {
      "text/plain": [
       "<AxesSubplot:>"
      ]
     },
     "execution_count": 9,
     "metadata": {},
     "output_type": "execute_result"
    },
    {
     "data": {
      "image/png": "[encoded data removed]",
      "text/plain": [
       "<Figure size 504x504 with 1 Axes>"
      ]
     },
     "metadata": {
      "needs_background": "light"
     },
     "output_type": "display_data"
    }
   ],
   "source": [
    "fig,ax=plt.subplots(figsize=(7,7))\n",
    "gdf.loc[gdf.id==1345250.0].iloc[[0]].plot(ax=ax,color='red')\n",
    "gdf.loc[gdf.id==1345250.0].iloc[[1]].plot(ax=ax,color='green')"
   ]
  },
  {
   "cell_type": "markdown",
   "metadata": {},
   "source": [
    "## dissolve"
   ]
  },
  {
   "cell_type": "code",
   "execution_count": 46,
   "metadata": {},
   "outputs": [],
   "source": [
    "gdf2 = gdf.loc[gdf.duplicated(subset='id',keep=False)]"
   ]
  },
  {
   "cell_type": "code",
   "execution_count": 47,
   "metadata": {},
   "outputs": [],
   "source": [
    "gdf2 = gdf2.dissolve(by='id')"
   ]
  },
  {
   "cell_type": "code",
   "execution_count": 48,
   "metadata": {},
   "outputs": [
    {
     "data": {
      "text/html": [
       "<div>\n",
       "<style scoped>\n",
       "    .dataframe tbody tr th:only-of-type {\n",
       "        vertical-align: middle;\n",
       "    }\n",
       "\n",
       "    .dataframe tbody tr th {\n",
       "        vertical-align: top;\n",
       "    }\n",
       "\n",
       "    .dataframe thead th {\n",
       "        text-align: right;\n",
       "    }\n",
       "</style>\n",
       "<table border=\"1\" class=\"dataframe\">\n",
       "  <thead>\n",
       "    <tr style=\"text-align: right;\">\n",
       "      <th></th>\n",
       "      <th>geometry</th>\n",
       "      <th>Unnamed: 0</th>\n",
       "      <th>height</th>\n",
       "      <th>type_source</th>\n",
       "      <th>type</th>\n",
       "      <th>age</th>\n",
       "      <th>floors</th>\n",
       "      <th>source_file</th>\n",
       "    </tr>\n",
       "    <tr>\n",
       "      <th>id</th>\n",
       "      <th></th>\n",
       "      <th></th>\n",
       "      <th></th>\n",
       "      <th></th>\n",
       "      <th></th>\n",
       "      <th></th>\n",
       "      <th></th>\n",
       "      <th></th>\n",
       "    </tr>\n",
       "  </thead>\n",
       "  <tbody>\n",
       "    <tr>\n",
       "      <th>15027.0</th>\n",
       "      <td>POLYGON ((4653987.449 2081683.037, 4653988.373...</td>\n",
       "      <td>10651</td>\n",
       "      <td>28.39</td>\n",
       "      <td>Non conosciuto</td>\n",
       "      <td>NaN</td>\n",
       "      <td>NaN</td>\n",
       "      <td>NaN</td>\n",
       "      <td>CR01G_EDIFICI</td>\n",
       "    </tr>\n",
       "    <tr>\n",
       "      <th>15028.0</th>\n",
       "      <td>POLYGON ((4654017.461 2081694.211, 4654016.489...</td>\n",
       "      <td>10652</td>\n",
       "      <td>16.51</td>\n",
       "      <td>Non conosciuto</td>\n",
       "      <td>NaN</td>\n",
       "      <td>NaN</td>\n",
       "      <td>NaN</td>\n",
       "      <td>CR01G_EDIFICI</td>\n",
       "    </tr>\n",
       "    <tr>\n",
       "      <th>15270.0</th>\n",
       "      <td>POLYGON ((4667943.832 2161374.798, 4667943.303...</td>\n",
       "      <td>48181</td>\n",
       "      <td>48.17</td>\n",
       "      <td>Non conosciuto</td>\n",
       "      <td>NaN</td>\n",
       "      <td>NaN</td>\n",
       "      <td>NaN</td>\n",
       "      <td>CR01G_EDIFICI</td>\n",
       "    </tr>\n",
       "    <tr>\n",
       "      <th>1279297.0</th>\n",
       "      <td>POLYGON ((4655836.152 2079159.878, 4655831.950...</td>\n",
       "      <td>14564</td>\n",
       "      <td>3.81</td>\n",
       "      <td>Non conosciuto</td>\n",
       "      <td>NaN</td>\n",
       "      <td>NaN</td>\n",
       "      <td>NaN</td>\n",
       "      <td>CR01G_EDIFICI</td>\n",
       "    </tr>\n",
       "    <tr>\n",
       "      <th>1279298.0</th>\n",
       "      <td>POLYGON ((4657963.511 2079377.661, 4657953.045...</td>\n",
       "      <td>14575</td>\n",
       "      <td>3.76</td>\n",
       "      <td>Non conosciuto</td>\n",
       "      <td>NaN</td>\n",
       "      <td>NaN</td>\n",
       "      <td>NaN</td>\n",
       "      <td>CR01G_EDIFICI</td>\n",
       "    </tr>\n",
       "    <tr>\n",
       "      <th>...</th>\n",
       "      <td>...</td>\n",
       "      <td>...</td>\n",
       "      <td>...</td>\n",
       "      <td>...</td>\n",
       "      <td>...</td>\n",
       "      <td>...</td>\n",
       "      <td>...</td>\n",
       "      <td>...</td>\n",
       "    </tr>\n",
       "    <tr>\n",
       "      <th>1711973.0</th>\n",
       "      <td>MULTIPOLYGON (((4641694.847 2205746.638, 46416...</td>\n",
       "      <td>92847</td>\n",
       "      <td>12.49</td>\n",
       "      <td>Abitativa</td>\n",
       "      <td>NaN</td>\n",
       "      <td>NaN</td>\n",
       "      <td>NaN</td>\n",
       "      <td>CR01G_EDIFICI</td>\n",
       "    </tr>\n",
       "    <tr>\n",
       "      <th>1711998.0</th>\n",
       "      <td>MULTIPOLYGON (((4641689.885 2205848.504, 46416...</td>\n",
       "      <td>93386</td>\n",
       "      <td>3.81</td>\n",
       "      <td>Abitativa</td>\n",
       "      <td>NaN</td>\n",
       "      <td>NaN</td>\n",
       "      <td>NaN</td>\n",
       "      <td>CR01G_EDIFICI</td>\n",
       "    </tr>\n",
       "    <tr>\n",
       "      <th>1712047.0</th>\n",
       "      <td>POLYGON ((4641673.907 2206007.538, 4641673.907...</td>\n",
       "      <td>93336</td>\n",
       "      <td>7.49</td>\n",
       "      <td>Abitativa</td>\n",
       "      <td>NaN</td>\n",
       "      <td>NaN</td>\n",
       "      <td>NaN</td>\n",
       "      <td>CR01G_EDIFICI</td>\n",
       "    </tr>\n",
       "    <tr>\n",
       "      <th>1712133.0</th>\n",
       "      <td>POLYGON ((4641668.919 2206278.106, 4641668.919...</td>\n",
       "      <td>93413</td>\n",
       "      <td>7.29</td>\n",
       "      <td>Abitativa</td>\n",
       "      <td>NaN</td>\n",
       "      <td>NaN</td>\n",
       "      <td>NaN</td>\n",
       "      <td>CR01G_EDIFICI</td>\n",
       "    </tr>\n",
       "    <tr>\n",
       "      <th>1712157.0</th>\n",
       "      <td>POLYGON ((4641667.438 2206381.033, 4641671.261...</td>\n",
       "      <td>93335</td>\n",
       "      <td>10.66</td>\n",
       "      <td>Abitativa</td>\n",
       "      <td>NaN</td>\n",
       "      <td>NaN</td>\n",
       "      <td>NaN</td>\n",
       "      <td>CR01G_EDIFICI</td>\n",
       "    </tr>\n",
       "  </tbody>\n",
       "</table>\n",
       "<p>6747 rows × 8 columns</p>\n",
       "</div>"
      ],
      "text/plain": [
       "                                                    geometry  Unnamed: 0  \\\n",
       "id                                                                         \n",
       "15027.0    POLYGON ((4653987.449 2081683.037, 4653988.373...       10651   \n",
       "15028.0    POLYGON ((4654017.461 2081694.211, 4654016.489...       10652   \n",
       "15270.0    POLYGON ((4667943.832 2161374.798, 4667943.303...       48181   \n",
       "1279297.0  POLYGON ((4655836.152 2079159.878, 4655831.950...       14564   \n",
       "1279298.0  POLYGON ((4657963.511 2079377.661, 4657953.045...       14575   \n",
       "...                                                      ...         ...   \n",
       "1711973.0  MULTIPOLYGON (((4641694.847 2205746.638, 46416...       92847   \n",
       "1711998.0  MULTIPOLYGON (((4641689.885 2205848.504, 46416...       93386   \n",
       "1712047.0  POLYGON ((4641673.907 2206007.538, 4641673.907...       93336   \n",
       "1712133.0  POLYGON ((4641668.919 2206278.106, 4641668.919...       93413   \n",
       "1712157.0  POLYGON ((4641667.438 2206381.033, 4641671.261...       93335   \n",
       "\n",
       "           height     type_source  type  age  floors    source_file  \n",
       "id                                                                   \n",
       "15027.0     28.39  Non conosciuto   NaN  NaN     NaN  CR01G_EDIFICI  \n",
       "15028.0     16.51  Non conosciuto   NaN  NaN     NaN  CR01G_EDIFICI  \n",
       "15270.0     48.17  Non conosciuto   NaN  NaN     NaN  CR01G_EDIFICI  \n",
       "1279297.0    3.81  Non conosciuto   NaN  NaN     NaN  CR01G_EDIFICI  \n",
       "1279298.0    3.76  Non conosciuto   NaN  NaN     NaN  CR01G_EDIFICI  \n",
       "...           ...             ...   ...  ...     ...            ...  \n",
       "1711973.0   12.49       Abitativa   NaN  NaN     NaN  CR01G_EDIFICI  \n",
       "1711998.0    3.81       Abitativa   NaN  NaN     NaN  CR01G_EDIFICI  \n",
       "1712047.0    7.49       Abitativa   NaN  NaN     NaN  CR01G_EDIFICI  \n",
       "1712133.0    7.29       Abitativa   NaN  NaN     NaN  CR01G_EDIFICI  \n",
       "1712157.0   10.66       Abitativa   NaN  NaN     NaN  CR01G_EDIFICI  \n",
       "\n",
       "[6747 rows x 8 columns]"
      ]
     },
     "execution_count": 48,
     "metadata": {},
     "output_type": "execute_result"
    }
   ],
   "source": [
    "gdf2"
   ]
  },
  {
   "cell_type": "code",
   "execution_count": null,
   "metadata": {},
   "outputs": [
    {
     "data": {
      "text/plain": [
       "<AxesSubplot:>"
      ]
     },
     "execution_count": 21,
     "metadata": {},
     "output_type": "execute_result"
    },
    {
     "data": {
      "image/png": "[encoded data removed]",
      "text/plain": [
       "<Figure size 432x288 with 1 Axes>"
      ]
     },
     "metadata": {
      "needs_background": "light"
     },
     "output_type": "display_data"
    }
   ],
   "source": [
    "# your previous geom\n",
    "\n",
    "gdf2.loc[[1345250.0]].plot()"
   ]
  },
  {
   "cell_type": "code",
   "execution_count": null,
   "metadata": {},
   "outputs": [
    {
     "data": {
      "text/plain": [
       "<AxesSubplot:>"
      ]
     },
     "execution_count": 20,
     "metadata": {},
     "output_type": "execute_result"
    },
    {
     "data": {
      "image/png": "[encoded data removed]",
      "text/plain": [
       "<Figure size 432x288 with 1 Axes>"
      ]
     },
     "metadata": {
      "needs_background": "light"
     },
     "output_type": "display_data"
    }
   ],
   "source": [
    "# will generate multipoly if buildings are separate\n",
    "\n",
    "gdf2.loc[[1711998.0]].plot()"
   ]
  },
  {
   "cell_type": "markdown",
   "metadata": {},
   "source": [
    "# Run"
   ]
  },
  {
   "cell_type": "code",
   "execution_count": 49,
   "metadata": {},
   "outputs": [],
   "source": [
    "gdf = gdf.dissolve(by='id')"
   ]
  },
  {
   "cell_type": "code",
   "execution_count": 50,
   "metadata": {},
   "outputs": [],
   "source": [
    "gdf['id'] = gdf.index\n",
    "gdf = gdf.drop(columns=['Unnamed: 0'])"
   ]
  },
  {
   "cell_type": "code",
   "execution_count": null,
   "metadata": {},
   "outputs": [],
   "source": [
    "save_csv_wkt(gdf,'/media/nmd/Krzrzrz/data-eubucco/Italy/abruzzo/abruzzo-gov-3035_geoms_clean.csv')"
   ]
  },
  {
   "cell_type": "code",
   "execution_count": 56,
   "metadata": {},
   "outputs": [],
   "source": [
    "gdf[['id','geometry']].to_csv('/media/nmd/Krzrzrz/data-eubucco/Italy/abruzzo/abruzzo-gov-3035_geoms_clean.csv')"
   ]
  },
  {
   "cell_type": "code",
   "execution_count": 52,
   "metadata": {},
   "outputs": [],
   "source": [
    "gdf.drop(columns=['geometry']).to_csv('/media/nmd/Krzrzrz/data-eubucco/Italy/abruzzo/abruzzo-gov-attrib_clean.csv')"
   ]
  },
  {
   "cell_type": "code",
   "execution_count": 53,
   "metadata": {},
   "outputs": [
    {
     "data": {
      "text/plain": [
       "296429"
      ]
     },
     "execution_count": 53,
     "metadata": {},
     "output_type": "execute_result"
    }
   ],
   "source": [
    "len(gdf)"
   ]
  },
  {
   "cell_type": "code",
   "execution_count": null,
   "metadata": {},
   "outputs": [],
   "source": []
  }
 ],
 "metadata": {
  "interpreter": {
   "hash": "8cfa0d9bb958ca9446955850d673fcd9b364dbe607a08bf22d8a692018366e7e"
  },
  "kernelspec": {
   "display_name": "Python 3",
   "language": "python",
   "name": "python3"
  },
  "language_info": {
   "codemirror_mode": {
    "name": "ipython",
    "version": 3
   },
   "file_extension": ".py",
   "mimetype": "text/x-python",
   "name": "python",
   "nbconvert_exporter": "python",
   "pygments_lexer": "ipython3",
   "version": "3.10.4"
  }
 },
 "nbformat": 4,
 "nbformat_minor": 2
}
