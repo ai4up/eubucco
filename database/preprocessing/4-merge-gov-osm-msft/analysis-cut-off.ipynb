{
 "cells": [
  {
   "cell_type": "code",
   "execution_count": 3,
   "metadata": {},
   "outputs": [],
   "source": [
    "import pandas as pd\n",
    "import os\n",
    "import glob\n",
    "\n",
    "root = '/home/nmd/Desktop/'"
   ]
  },
  {
   "cell_type": "code",
   "execution_count": 4,
   "metadata": {},
   "outputs": [],
   "source": [
    "paths_msft = glob.glob(os.path.join(root,'v1','msft_*'))\n",
    "overviews_msft = pd.DataFrame()\n",
    "\n",
    "for path in paths_msft:\n",
    "    tmp = pd.read_csv(path)\n",
    "    tmp.insert(0,'country',os.path.split(path)[1].split('_')[1])\n",
    "    overviews_msft = pd.concat([overviews_msft,tmp])"
   ]
  },
  {
   "cell_type": "code",
   "execution_count": 33,
   "metadata": {},
   "outputs": [],
   "source": [
    "paths_gov = glob.glob(os.path.join(root,'v1','gov_*'))\n",
    "overviews_gov = pd.DataFrame()\n",
    "\n",
    "for path in paths_gov:\n",
    "    tmp = pd.read_csv(path)\n",
    "    tmp.insert(0,'country',os.path.split(path)[1].split('_')[1])\n",
    "    overviews_gov = pd.concat([overviews_gov,tmp])"
   ]
  },
  {
   "cell_type": "code",
   "execution_count": 34,
   "metadata": {},
   "outputs": [],
   "source": [
    "df = pd.merge(overviews_msft[['country','LAU_ID','area']],overviews_gov[['LAU_ID','area']],on='LAU_ID',suffixes=['_msft','_gov'])"
   ]
  },
  {
   "cell_type": "code",
   "execution_count": 35,
   "metadata": {},
   "outputs": [],
   "source": [
    "df['diff'] = (df.area_msft - df.area_gov) / df.area_gov"
   ]
  },
  {
   "cell_type": "code",
   "execution_count": 36,
   "metadata": {},
   "outputs": [
    {
     "data": {
      "text/html": [
       "<div>\n",
       "<style scoped>\n",
       "    .dataframe tbody tr th:only-of-type {\n",
       "        vertical-align: middle;\n",
       "    }\n",
       "\n",
       "    .dataframe tbody tr th {\n",
       "        vertical-align: top;\n",
       "    }\n",
       "\n",
       "    .dataframe thead th {\n",
       "        text-align: right;\n",
       "    }\n",
       "</style>\n",
       "<table border=\"1\" class=\"dataframe\">\n",
       "  <thead>\n",
       "    <tr style=\"text-align: right;\">\n",
       "      <th></th>\n",
       "      <th>country</th>\n",
       "      <th>LAU_ID</th>\n",
       "      <th>area_msft</th>\n",
       "      <th>area_gov</th>\n",
       "      <th>diff</th>\n",
       "    </tr>\n",
       "  </thead>\n",
       "  <tbody>\n",
       "    <tr>\n",
       "      <th>0</th>\n",
       "      <td>estonia</td>\n",
       "      <td>EE0184</td>\n",
       "      <td>1267540.0</td>\n",
       "      <td>1428920.0</td>\n",
       "      <td>-0.112938</td>\n",
       "    </tr>\n",
       "    <tr>\n",
       "      <th>1</th>\n",
       "      <td>estonia</td>\n",
       "      <td>EE0205</td>\n",
       "      <td>1594128.0</td>\n",
       "      <td>1831985.0</td>\n",
       "      <td>-0.129836</td>\n",
       "    </tr>\n",
       "    <tr>\n",
       "      <th>2</th>\n",
       "      <td>estonia</td>\n",
       "      <td>EE0214</td>\n",
       "      <td>821947.0</td>\n",
       "      <td>1002487.0</td>\n",
       "      <td>-0.180092</td>\n",
       "    </tr>\n",
       "    <tr>\n",
       "      <th>3</th>\n",
       "      <td>estonia</td>\n",
       "      <td>EE0303</td>\n",
       "      <td>87322.0</td>\n",
       "      <td>102755.0</td>\n",
       "      <td>-0.150192</td>\n",
       "    </tr>\n",
       "    <tr>\n",
       "      <th>4</th>\n",
       "      <td>estonia</td>\n",
       "      <td>EE0430</td>\n",
       "      <td>1136666.0</td>\n",
       "      <td>1552656.0</td>\n",
       "      <td>-0.267922</td>\n",
       "    </tr>\n",
       "  </tbody>\n",
       "</table>\n",
       "</div>"
      ],
      "text/plain": [
       "   country  LAU_ID  area_msft   area_gov      diff\n",
       "0  estonia  EE0184  1267540.0  1428920.0 -0.112938\n",
       "1  estonia  EE0205  1594128.0  1831985.0 -0.129836\n",
       "2  estonia  EE0214   821947.0  1002487.0 -0.180092\n",
       "3  estonia  EE0303    87322.0   102755.0 -0.150192\n",
       "4  estonia  EE0430  1136666.0  1552656.0 -0.267922"
      ]
     },
     "execution_count": 36,
     "metadata": {},
     "output_type": "execute_result"
    }
   ],
   "source": [
    "df.head()"
   ]
  },
  {
   "cell_type": "code",
   "execution_count": 37,
   "metadata": {},
   "outputs": [],
   "source": [
    "df = df[(df['diff'] > -1) & (df['diff'] < 1)]\n"
   ]
  },
  {
   "cell_type": "code",
   "execution_count": 38,
   "metadata": {},
   "outputs": [
    {
     "data": {
      "text/plain": [
       "count    58916.000000\n",
       "mean         0.111103\n",
       "std          0.259039\n",
       "min         -0.999998\n",
       "50%          0.107532\n",
       "80%          0.236773\n",
       "90%          0.359485\n",
       "95%          0.517487\n",
       "max          0.999128\n",
       "Name: diff, dtype: float64"
      ]
     },
     "execution_count": 38,
     "metadata": {},
     "output_type": "execute_result"
    }
   ],
   "source": [
    "df['diff'].describe(percentiles=[.8,.9,.95])"
   ]
  },
  {
   "cell_type": "code",
   "execution_count": 39,
   "metadata": {},
   "outputs": [
    {
     "data": {
      "text/plain": [
       "count    32507.000000\n",
       "mean         0.084408\n",
       "std          0.163931\n",
       "min         -0.999882\n",
       "50%          0.095383\n",
       "80%          0.168047\n",
       "90%          0.221145\n",
       "95%          0.267334\n",
       "max          0.987037\n",
       "Name: diff, dtype: float64"
      ]
     },
     "execution_count": 39,
     "metadata": {},
     "output_type": "execute_result"
    }
   ],
   "source": [
    "df[df.country=='france']['diff'].describe(percentiles=[.8,.9,.95])"
   ]
  },
  {
   "cell_type": "code",
   "execution_count": 40,
   "metadata": {},
   "outputs": [
    {
     "data": {
      "text/plain": [
       "count    3921.000000\n",
       "mean        0.165050\n",
       "std         0.182024\n",
       "min        -0.998224\n",
       "50%         0.143546\n",
       "80%         0.238919\n",
       "90%         0.351584\n",
       "95%         0.487203\n",
       "max         0.997184\n",
       "Name: diff, dtype: float64"
      ]
     },
     "execution_count": 40,
     "metadata": {},
     "output_type": "execute_result"
    }
   ],
   "source": [
    "df[df.country=='germany']['diff'].describe(percentiles=[.8,.9,.95])"
   ]
  },
  {
   "cell_type": "markdown",
   "metadata": {},
   "source": [
    "maybe use the weighting here?"
   ]
  }
 ],
 "metadata": {
  "kernelspec": {
   "display_name": "db-set-up",
   "language": "python",
   "name": "python3"
  },
  "language_info": {
   "codemirror_mode": {
    "name": "ipython",
    "version": 3
   },
   "file_extension": ".py",
   "mimetype": "text/x-python",
   "name": "python",
   "nbconvert_exporter": "python",
   "pygments_lexer": "ipython3",
   "version": "3.10.1"
  }
 },
 "nbformat": 4,
 "nbformat_minor": 2
}
