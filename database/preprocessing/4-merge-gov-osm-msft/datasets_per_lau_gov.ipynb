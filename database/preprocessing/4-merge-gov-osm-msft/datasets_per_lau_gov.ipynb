{
 "cells": [
  {
   "cell_type": "code",
   "execution_count": 65,
   "metadata": {},
   "outputs": [],
   "source": [
    "import pandas as pd\n",
    "import os "
   ]
  },
  {
   "cell_type": "code",
   "execution_count": 66,
   "metadata": {},
   "outputs": [],
   "source": [
    "root = '/home/nmd/Projects/mlup/tests/db-set-refactoring/0-raw-data/lau/'"
   ]
  },
  {
   "cell_type": "code",
   "execution_count": 67,
   "metadata": {},
   "outputs": [
    {
     "data": {
      "text/html": [
       "<div>\n",
       "<style scoped>\n",
       "    .dataframe tbody tr th:only-of-type {\n",
       "        vertical-align: middle;\n",
       "    }\n",
       "\n",
       "    .dataframe tbody tr th {\n",
       "        vertical-align: top;\n",
       "    }\n",
       "\n",
       "    .dataframe thead th {\n",
       "        text-align: right;\n",
       "    }\n",
       "</style>\n",
       "<table border=\"1\" class=\"dataframe\">\n",
       "  <thead>\n",
       "    <tr style=\"text-align: right;\">\n",
       "      <th></th>\n",
       "      <th>LAU_ID</th>\n",
       "      <th>country</th>\n",
       "      <th>NUTS_ID_region</th>\n",
       "      <th>region</th>\n",
       "      <th>CNTR_CODE</th>\n",
       "      <th>nuts3</th>\n",
       "      <th>MOUNT_TYPE</th>\n",
       "      <th>URBN_TYPE</th>\n",
       "      <th>COAST_TYPE</th>\n",
       "      <th>NUTS_ID_3</th>\n",
       "    </tr>\n",
       "  </thead>\n",
       "  <tbody>\n",
       "    <tr>\n",
       "      <th>0</th>\n",
       "      <td>CZ579271</td>\n",
       "      <td>czechia</td>\n",
       "      <td>CZ0</td>\n",
       "      <td>ČESKÁ REPUBLIKA</td>\n",
       "      <td>CZ</td>\n",
       "      <td>Královéhradecký kraj</td>\n",
       "      <td>4</td>\n",
       "      <td>2</td>\n",
       "      <td>3</td>\n",
       "      <td>CZ052</td>\n",
       "    </tr>\n",
       "    <tr>\n",
       "      <th>1</th>\n",
       "      <td>CZ579289</td>\n",
       "      <td>czechia</td>\n",
       "      <td>CZ0</td>\n",
       "      <td>ČESKÁ REPUBLIKA</td>\n",
       "      <td>CZ</td>\n",
       "      <td>Plzeňský kraj</td>\n",
       "      <td>4</td>\n",
       "      <td>3</td>\n",
       "      <td>3</td>\n",
       "      <td>CZ032</td>\n",
       "    </tr>\n",
       "    <tr>\n",
       "      <th>2</th>\n",
       "      <td>CZ579297</td>\n",
       "      <td>czechia</td>\n",
       "      <td>CZ0</td>\n",
       "      <td>ČESKÁ REPUBLIKA</td>\n",
       "      <td>CZ</td>\n",
       "      <td>Královéhradecký kraj</td>\n",
       "      <td>4</td>\n",
       "      <td>2</td>\n",
       "      <td>3</td>\n",
       "      <td>CZ052</td>\n",
       "    </tr>\n",
       "    <tr>\n",
       "      <th>3</th>\n",
       "      <td>CZ579301</td>\n",
       "      <td>czechia</td>\n",
       "      <td>CZ0</td>\n",
       "      <td>ČESKÁ REPUBLIKA</td>\n",
       "      <td>CZ</td>\n",
       "      <td>Královéhradecký kraj</td>\n",
       "      <td>4</td>\n",
       "      <td>2</td>\n",
       "      <td>3</td>\n",
       "      <td>CZ052</td>\n",
       "    </tr>\n",
       "    <tr>\n",
       "      <th>4</th>\n",
       "      <td>CZ579319</td>\n",
       "      <td>czechia</td>\n",
       "      <td>CZ0</td>\n",
       "      <td>ČESKÁ REPUBLIKA</td>\n",
       "      <td>CZ</td>\n",
       "      <td>Královéhradecký kraj</td>\n",
       "      <td>4</td>\n",
       "      <td>2</td>\n",
       "      <td>3</td>\n",
       "      <td>CZ052</td>\n",
       "    </tr>\n",
       "    <tr>\n",
       "      <th>...</th>\n",
       "      <td>...</td>\n",
       "      <td>...</td>\n",
       "      <td>...</td>\n",
       "      <td>...</td>\n",
       "      <td>...</td>\n",
       "      <td>...</td>\n",
       "      <td>...</td>\n",
       "      <td>...</td>\n",
       "      <td>...</td>\n",
       "      <td>...</td>\n",
       "    </tr>\n",
       "    <tr>\n",
       "      <th>98679</th>\n",
       "      <td>RO82895</td>\n",
       "      <td>romania</td>\n",
       "      <td>RO4</td>\n",
       "      <td>MACROREGIUNEA PATRU</td>\n",
       "      <td>RO</td>\n",
       "      <td>Gorj</td>\n",
       "      <td>4</td>\n",
       "      <td>3</td>\n",
       "      <td>3</td>\n",
       "      <td>RO412</td>\n",
       "    </tr>\n",
       "    <tr>\n",
       "      <th>98680</th>\n",
       "      <td>RO83133</td>\n",
       "      <td>romania</td>\n",
       "      <td>RO1</td>\n",
       "      <td>MACROREGIUNEA UNU</td>\n",
       "      <td>RO</td>\n",
       "      <td>Harghita</td>\n",
       "      <td>3</td>\n",
       "      <td>3</td>\n",
       "      <td>3</td>\n",
       "      <td>RO124</td>\n",
       "    </tr>\n",
       "    <tr>\n",
       "      <th>98681</th>\n",
       "      <td>RO83151</td>\n",
       "      <td>romania</td>\n",
       "      <td>RO1</td>\n",
       "      <td>MACROREGIUNEA UNU</td>\n",
       "      <td>RO</td>\n",
       "      <td>Harghita</td>\n",
       "      <td>3</td>\n",
       "      <td>3</td>\n",
       "      <td>3</td>\n",
       "      <td>RO124</td>\n",
       "    </tr>\n",
       "    <tr>\n",
       "      <th>98682</th>\n",
       "      <td>RO83197</td>\n",
       "      <td>romania</td>\n",
       "      <td>RO1</td>\n",
       "      <td>MACROREGIUNEA UNU</td>\n",
       "      <td>RO</td>\n",
       "      <td>Harghita</td>\n",
       "      <td>3</td>\n",
       "      <td>3</td>\n",
       "      <td>3</td>\n",
       "      <td>RO124</td>\n",
       "    </tr>\n",
       "    <tr>\n",
       "      <th>98683</th>\n",
       "      <td>CZ568902</td>\n",
       "      <td>czechia</td>\n",
       "      <td>CZ0</td>\n",
       "      <td>ČESKÁ REPUBLIKA</td>\n",
       "      <td>CZ</td>\n",
       "      <td>Kraj Vysočina</td>\n",
       "      <td>4</td>\n",
       "      <td>3</td>\n",
       "      <td>3</td>\n",
       "      <td>CZ063</td>\n",
       "    </tr>\n",
       "  </tbody>\n",
       "</table>\n",
       "<p>98684 rows × 10 columns</p>\n",
       "</div>"
      ],
      "text/plain": [
       "         LAU_ID  country NUTS_ID_region               region CNTR_CODE  \\\n",
       "0      CZ579271  czechia            CZ0      ČESKÁ REPUBLIKA        CZ   \n",
       "1      CZ579289  czechia            CZ0      ČESKÁ REPUBLIKA        CZ   \n",
       "2      CZ579297  czechia            CZ0      ČESKÁ REPUBLIKA        CZ   \n",
       "3      CZ579301  czechia            CZ0      ČESKÁ REPUBLIKA        CZ   \n",
       "4      CZ579319  czechia            CZ0      ČESKÁ REPUBLIKA        CZ   \n",
       "...         ...      ...            ...                  ...       ...   \n",
       "98679   RO82895  romania            RO4  MACROREGIUNEA PATRU        RO   \n",
       "98680   RO83133  romania            RO1    MACROREGIUNEA UNU        RO   \n",
       "98681   RO83151  romania            RO1    MACROREGIUNEA UNU        RO   \n",
       "98682   RO83197  romania            RO1    MACROREGIUNEA UNU        RO   \n",
       "98683  CZ568902  czechia            CZ0      ČESKÁ REPUBLIKA        CZ   \n",
       "\n",
       "                      nuts3  MOUNT_TYPE  URBN_TYPE  COAST_TYPE NUTS_ID_3  \n",
       "0      Královéhradecký kraj           4          2           3     CZ052  \n",
       "1             Plzeňský kraj           4          3           3     CZ032  \n",
       "2      Královéhradecký kraj           4          2           3     CZ052  \n",
       "3      Královéhradecký kraj           4          2           3     CZ052  \n",
       "4      Královéhradecký kraj           4          2           3     CZ052  \n",
       "...                     ...         ...        ...         ...       ...  \n",
       "98679                  Gorj           4          3           3     RO412  \n",
       "98680              Harghita           3          3           3     RO124  \n",
       "98681              Harghita           3          3           3     RO124  \n",
       "98682              Harghita           3          3           3     RO124  \n",
       "98683         Kraj Vysočina           4          3           3     CZ063  \n",
       "\n",
       "[98684 rows x 10 columns]"
      ]
     },
     "execution_count": 67,
     "metadata": {},
     "output_type": "execute_result"
    }
   ],
   "source": [
    "pd.read_csv(os.path.join(root,'lau_nuts_extra.csv'))"
   ]
  },
  {
   "cell_type": "code",
   "execution_count": 68,
   "metadata": {},
   "outputs": [],
   "source": [
    "laus = pd.read_csv(os.path.join(root,'lau_nuts_extra.csv'))[['country','LAU_ID','NUTS_ID_3','NUTS_ID_region']]"
   ]
  },
  {
   "cell_type": "code",
   "execution_count": 69,
   "metadata": {},
   "outputs": [],
   "source": [
    "input_parsing = pd.read_csv('../1-parsing/inputs-parsing.csv')"
   ]
  },
  {
   "cell_type": "code",
   "execution_count": 70,
   "metadata": {},
   "outputs": [],
   "source": [
    "laus = laus[laus.country.isin(list(set(input_parsing.country)))]"
   ]
  },
  {
   "cell_type": "code",
   "execution_count": 71,
   "metadata": {},
   "outputs": [],
   "source": [
    "laus_no_change = laus[~laus.country.isin(['germany','austria','italy'])]"
   ]
  },
  {
   "cell_type": "code",
   "execution_count": 72,
   "metadata": {},
   "outputs": [],
   "source": [
    "reg_keep = list(input_parsing[(input_parsing.nuts_level.isin(['nuts1','nuts2'])) & (input_parsing.nuts_name!=\"['ITH1','ITH2']\")]['nuts_name'])"
   ]
  },
  {
   "cell_type": "code",
   "execution_count": 73,
   "metadata": {},
   "outputs": [],
   "source": [
    "reg_keep.append('ITH1')\n",
    "reg_keep.append('ITH2')"
   ]
  },
  {
   "cell_type": "code",
   "execution_count": 74,
   "metadata": {},
   "outputs": [],
   "source": [
    "laus_no_change = pd.concat([laus_no_change,laus[laus.NUTS_ID_region.isin(reg_keep)]])"
   ]
  },
  {
   "cell_type": "code",
   "execution_count": 75,
   "metadata": {},
   "outputs": [
    {
     "data": {
      "text/plain": [
       "Index(['country', 'LAU_ID', 'NUTS_ID_3', 'NUTS_ID_region'], dtype='object')"
      ]
     },
     "execution_count": 75,
     "metadata": {},
     "output_type": "execute_result"
    }
   ],
   "source": [
    "laus.columns"
   ]
  },
  {
   "cell_type": "code",
   "execution_count": 76,
   "metadata": {},
   "outputs": [],
   "source": [
    "laus_no_change = pd.concat([laus_no_change,laus[laus.LAU_ID == 'AT40101']])\n",
    "laus_no_change = pd.concat([laus_no_change,laus[laus.NUTS_ID_3 == 'DE131']])"
   ]
  },
  {
   "cell_type": "code",
   "execution_count": 77,
   "metadata": {},
   "outputs": [],
   "source": [
    "# remove two regions spain!\n",
    "laus_no_change = laus_no_change[~laus_no_change.NUTS_ID_3.isin(['ES211', 'ES212', 'ES213', 'ES220', 'ES412'])]"
   ]
  },
  {
   "cell_type": "code",
   "execution_count": 78,
   "metadata": {},
   "outputs": [],
   "source": [
    "# remove upper part of Sud Tirol\n",
    "laus_no_change = laus_no_change[laus_no_change.NUTS_ID_3 != 'ITH10']"
   ]
  },
  {
   "cell_type": "code",
   "execution_count": 79,
   "metadata": {},
   "outputs": [],
   "source": [
    "laus_no_change.to_csv('laus_gov.csv',index=False)"
   ]
  }
 ],
 "metadata": {
  "kernelspec": {
   "display_name": "db-set-up",
   "language": "python",
   "name": "python3"
  },
  "language_info": {
   "codemirror_mode": {
    "name": "ipython",
    "version": 3
   },
   "file_extension": ".py",
   "mimetype": "text/x-python",
   "name": "python",
   "nbconvert_exporter": "python",
   "pygments_lexer": "ipython3",
   "version": "3.10.1"
  }
 },
 "nbformat": 4,
 "nbformat_minor": 2
}
