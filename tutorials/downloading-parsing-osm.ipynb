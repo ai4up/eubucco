{
 "cells": [
  {
   "cell_type": "markdown",
   "metadata": {},
   "source": [
    "# Tutorial: Parsing OpenStreetMap"
   ]
  },
  {
   "cell_type": "code",
   "execution_count": 12,
   "metadata": {},
   "outputs": [],
   "source": [
    "from pyrosm import get_data, OSM\n",
    "from pyrosm.data import sources\n",
    "import geopandas as gpd\n",
    "import numpy as np\n",
    "from collections import Counter"
   ]
  },
  {
   "cell_type": "markdown",
   "metadata": {},
   "source": [
    "We can use a cool library called `pyrosm` to download data and parse it into geopandas. Here are the list of available countries in Europe, but also regions that can be downloaded from regions within countries (useful when countries are large)."
   ]
  },
  {
   "cell_type": "code",
   "execution_count": 2,
   "metadata": {},
   "outputs": [
    {
     "name": "stdout",
     "output_type": "stream",
     "text": [
      "['albania', 'andorra', 'austria', 'azores', 'belarus', 'belgium', 'bosnia_herzegovina', 'bulgaria', 'croatia', 'cyprus', 'czech_republic', 'denmark', 'estonia', 'faroe_islands', 'finland', 'france', 'georgia', 'germany', 'great_britain', 'greece', 'hungary', 'iceland', 'ireland_and_northern_ireland', 'isle_of_man', 'italy', 'kosovo', 'latvia', 'liechtenstein', 'lithuania', 'luxembourg', 'macedonia', 'malta', 'moldova', 'monaco', 'montenegro', 'netherlands', 'norway', 'poland', 'portugal', 'romania', 'russia', 'serbia', 'slovakia', 'slovenia', 'spain', 'sweden', 'switzerland', 'turkey', 'ukraine']\n"
     ]
    }
   ],
   "source": [
    "print(sources.europe.available)"
   ]
  },
  {
   "cell_type": "code",
   "execution_count": 3,
   "metadata": {},
   "outputs": [
    {
     "name": "stdout",
     "output_type": "stream",
     "text": [
      "All countries with sub-regions: dict_keys(['brazil', 'canada', 'france', 'germany', 'great_britain', 'italy', 'japan', 'netherlands', 'poland', 'russia', 'usa'])\n"
     ]
    }
   ],
   "source": [
    "print(\"All countries with sub-regions:\", sources.subregions.available.keys())"
   ]
  },
  {
   "cell_type": "code",
   "execution_count": 4,
   "metadata": {},
   "outputs": [
    {
     "data": {
      "text/plain": [
       "['alsace',\n",
       " 'aquitaine',\n",
       " 'auvergne',\n",
       " 'basse_normandie',\n",
       " 'bourgogne',\n",
       " 'bretagne',\n",
       " 'centre',\n",
       " 'champagne_ardenne',\n",
       " 'corse',\n",
       " 'franche_comte',\n",
       " 'guadeloupe',\n",
       " 'guyane',\n",
       " 'haute_normandie',\n",
       " 'ile_de_france',\n",
       " 'languedoc_roussillon',\n",
       " 'limousin',\n",
       " 'lorraine',\n",
       " 'martinique',\n",
       " 'mayotte',\n",
       " 'midi_pyrenees',\n",
       " 'nord_pas_de_calais',\n",
       " 'pays_de_la_loire',\n",
       " 'picardie',\n",
       " 'poitou_charentes',\n",
       " 'provence_alpes_cote_d_azur',\n",
       " 'reunion',\n",
       " 'rhone_alpes']"
      ]
     },
     "execution_count": 4,
     "metadata": {},
     "output_type": "execute_result"
    }
   ],
   "source": [
    "sources.subregions.france.available"
   ]
  },
  {
   "cell_type": "markdown",
   "metadata": {},
   "source": [
    "## Importing and filtering\n",
    "It is pretty easy to download the OSM data for a given region."
   ]
  },
  {
   "cell_type": "code",
   "execution_count": 5,
   "metadata": {},
   "outputs": [
    {
     "name": "stdout",
     "output_type": "stream",
     "text": [
      "Downloaded Protobuf data 'malta-latest.osm.pbf' (4.61 MB) to:\n",
      "'C:\\Users\\miln\\Desktop\\malta-latest.osm.pbf'\n"
     ]
    },
    {
     "data": {
      "text/plain": [
       "'C:\\\\Users\\\\miln\\\\Desktop\\\\malta-latest.osm.pbf'"
      ]
     },
     "execution_count": 5,
     "metadata": {},
     "output_type": "execute_result"
    }
   ],
   "source": [
    "fp = get_data(\"Malta\",directory=r\"C:\\Users\\miln\\Desktop\")"
   ]
  },
  {
   "cell_type": "markdown",
   "metadata": {},
   "source": [
    "You can load it into a gdf."
   ]
  },
  {
   "cell_type": "code",
   "execution_count": 8,
   "metadata": {},
   "outputs": [],
   "source": [
    "osm = OSM(fp)\n",
    "buildings = osm.get_buildings()"
   ]
  },
  {
   "cell_type": "markdown",
   "metadata": {},
   "source": [
    "We are only some of the columns. That's good because we are pretty much all what we need and not all the irrelevant ones."
   ]
  },
  {
   "cell_type": "code",
   "execution_count": 9,
   "metadata": {},
   "outputs": [
    {
     "data": {
      "text/plain": [
       "Index(['addr:city', 'addr:country', 'addr:housenumber', 'addr:housename',\n",
       "       'addr:postcode', 'addr:street', 'email', 'name', 'opening_hours',\n",
       "       'operator', 'phone', 'ref', 'website', 'building', 'amenity',\n",
       "       'building:levels', 'building:material', 'building:use', 'craft',\n",
       "       'height', 'internet_access', 'landuse', 'office', 'shop', 'source',\n",
       "       'start_date', 'wikipedia', 'id', 'timestamp', 'version', 'tags',\n",
       "       'osm_type', 'geometry', 'changeset'],\n",
       "      dtype='object')"
      ]
     },
     "execution_count": 9,
     "metadata": {},
     "output_type": "execute_result"
    }
   ],
   "source": [
    "buildings.columns"
   ]
  },
  {
   "cell_type": "markdown",
   "metadata": {},
   "source": [
    "Let's keep only the actually relevant columns."
   ]
  },
  {
   "cell_type": "code",
   "execution_count": 10,
   "metadata": {},
   "outputs": [],
   "source": [
    "buildings = buildings[['id','height','building:levels','start_date','building','building:use','amenity','building:material','geometry']]"
   ]
  },
  {
   "cell_type": "markdown",
   "metadata": {},
   "source": [
    "## Cleaning up columns\n",
    "\n",
    "### Building heights\n",
    "They come as strings and there is sometimes text in there. Let's remove it."
   ]
  },
  {
   "cell_type": "code",
   "execution_count": 17,
   "metadata": {},
   "outputs": [
    {
     "name": "stdout",
     "output_type": "stream",
     "text": [
      "Counter({None: 16361, nan: 124, '11': 4, '22': 3, '15': 1, '20': 1, '98m': 1, '11.4': 1, '5': 1, '40': 1, '9': 1, '2': 1})\n"
     ]
    }
   ],
   "source": [
    "print(Counter(buildings['height']))"
   ]
  },
  {
   "cell_type": "code",
   "execution_count": 18,
   "metadata": {},
   "outputs": [],
   "source": [
    "# cleaning heights\n",
    "buildings['height'] = buildings['height'].str.extract('(\\d+\\.?(\\d+)?)')\n",
    "buildings['height'] = buildings['height'].astype(float)"
   ]
  },
  {
   "cell_type": "markdown",
   "metadata": {},
   "source": [
    "Now we have clean floats that we can use to compute metrics etc."
   ]
  },
  {
   "cell_type": "code",
   "execution_count": 20,
   "metadata": {},
   "outputs": [
    {
     "data": {
      "text/plain": [
       "20.69333333333333"
      ]
     },
     "execution_count": 20,
     "metadata": {},
     "output_type": "execute_result"
    }
   ],
   "source": [
    "buildings['height'].mean()"
   ]
  },
  {
   "cell_type": "markdown",
   "metadata": {},
   "source": [
    "### Building age and floors\n",
    "Let's do the same for those two."
   ]
  },
  {
   "cell_type": "code",
   "execution_count": 33,
   "metadata": {},
   "outputs": [],
   "source": [
    "# cleaning heights, levels and age\n",
    "for col in ['building:levels','start_date']:\n",
    "    buildings[col] = buildings[col].str.extract('(\\d+\\.?(\\d+)?)')\n",
    "    buildings[col] = buildings[col].astype(float)"
   ]
  },
  {
   "cell_type": "markdown",
   "metadata": {},
   "source": [
    "### Building types\n",
    "Here this is more difficult...\n",
    "\n",
    "First, we have several variables that are useful (`building`,`building:use` and `amenity`). We need to merge these into one 'building type' column ultimately.\n",
    "\n",
    "We have plenty of different values, actually many many, that we need to cluster... "
   ]
  },
  {
   "cell_type": "code",
   "execution_count": 16,
   "metadata": {},
   "outputs": [
    {
     "name": "stdout",
     "output_type": "stream",
     "text": [
      "Counter({'yes': 14141, 'residential': 441, 'house': 429, 'apartments': 396, 'school': 182, 'church': 154, 'chapel': 132, 'greenhouse': 110, 'industrial': 101, 'commercial': 39, 'university': 36, 'roof': 32, 'hotel': 30, 'garages': 29, 'office': 25, 'shed': 21, 'hut': 21, 'retail': 18, 'construction': 18, 'hangar': 15, 'bunker': 14, 'hospital': 13, 'garage': 12, 'terrace': 12, 'farm': 7, 'public': 6, 'collapsed': 6, 'college': 5, 'cathedral': 4, 'ruins': 4, 'manufacture': 4, 'warehouse': 3, 'government': 3, 'farm_auxiliary': 3, 'kiosk': 3, 'service': 3, 'basilica': 2, 'toilets': 2, 'train_station': 2, 'convent': 2, 'windmill': 2, 'boathouse': 2, 'marquee': 2, 'grandstand': 2, 'stadium': 2, 'transportation': 1, 'sports_centre': 1, '2': 1, 'supermarket': 1, 'detached': 1, 'semidetached_house': 1, 'restaurant': 1, 'civic': 1, 'steps': 1, 'no': 1})\n"
     ]
    }
   ],
   "source": [
    "print(Counter(buildings['building']))"
   ]
  },
  {
   "cell_type": "code",
   "execution_count": 15,
   "metadata": {},
   "outputs": [
    {
     "data": {
      "text/plain": [
       "Counter({None: 16375, 'medical': 1, nan: 124})"
      ]
     },
     "execution_count": 15,
     "metadata": {},
     "output_type": "execute_result"
    }
   ],
   "source": [
    "Counter(buildings['building:use'])"
   ]
  },
  {
   "cell_type": "markdown",
   "metadata": {},
   "source": [
    "Let's first harmonize all the different null values... "
   ]
  },
  {
   "cell_type": "code",
   "execution_count": 21,
   "metadata": {},
   "outputs": [],
   "source": [
    "buildings['building'].replace({'yes':None},inplace=True)\n",
    "buildings[['building','building:use','amenity']] = buildings[['building','building:use','amenity']].replace({np.nan:None})"
   ]
  },
  {
   "cell_type": "markdown",
   "metadata": {},
   "source": [
    "Let's create a new column that indicates whether we have at least a value for any of the three possible variables. "
   ]
  },
  {
   "cell_type": "code",
   "execution_count": 26,
   "metadata": {},
   "outputs": [],
   "source": [
    "def has_a_type_value(array):\n",
    "    return(any(np.equal(array, None) == False))"
   ]
  },
  {
   "cell_type": "code",
   "execution_count": 27,
   "metadata": {},
   "outputs": [],
   "source": [
    "type_cols_values = buildings[['building','building:use','amenity']].values\n",
    "new_col = np.array(list(map(has_a_type_value,type_cols_values)))\n",
    "buildings.insert(4,'has_type',new_col)"
   ]
  },
  {
   "cell_type": "code",
   "execution_count": null,
   "metadata": {},
   "outputs": [],
   "source": [
    "# TODO: cluster categories"
   ]
  },
  {
   "cell_type": "markdown",
   "metadata": {},
   "source": [
    "Here is our final dataset that can be saved."
   ]
  },
  {
   "cell_type": "code",
   "execution_count": 29,
   "metadata": {},
   "outputs": [
    {
     "data": {
      "text/html": [
       "<div>\n",
       "<style scoped>\n",
       "    .dataframe tbody tr th:only-of-type {\n",
       "        vertical-align: middle;\n",
       "    }\n",
       "\n",
       "    .dataframe tbody tr th {\n",
       "        vertical-align: top;\n",
       "    }\n",
       "\n",
       "    .dataframe thead th {\n",
       "        text-align: right;\n",
       "    }\n",
       "</style>\n",
       "<table border=\"1\" class=\"dataframe\">\n",
       "  <thead>\n",
       "    <tr style=\"text-align: right;\">\n",
       "      <th></th>\n",
       "      <th>id</th>\n",
       "      <th>height</th>\n",
       "      <th>building:levels</th>\n",
       "      <th>start_date</th>\n",
       "      <th>has_type</th>\n",
       "      <th>building</th>\n",
       "      <th>building:use</th>\n",
       "      <th>amenity</th>\n",
       "      <th>building:material</th>\n",
       "      <th>geometry</th>\n",
       "    </tr>\n",
       "  </thead>\n",
       "  <tbody>\n",
       "    <tr>\n",
       "      <th>0</th>\n",
       "      <td>15684588</td>\n",
       "      <td>NaN</td>\n",
       "      <td>None</td>\n",
       "      <td>None</td>\n",
       "      <td>True</td>\n",
       "      <td>None</td>\n",
       "      <td>None</td>\n",
       "      <td>conference_centre</td>\n",
       "      <td>None</td>\n",
       "      <td>POLYGON ((14.51781 35.89993, 14.51844 35.89981...</td>\n",
       "    </tr>\n",
       "    <tr>\n",
       "      <th>1</th>\n",
       "      <td>23352829</td>\n",
       "      <td>NaN</td>\n",
       "      <td>None</td>\n",
       "      <td>None</td>\n",
       "      <td>True</td>\n",
       "      <td>cathedral</td>\n",
       "      <td>None</td>\n",
       "      <td>place_of_worship</td>\n",
       "      <td>None</td>\n",
       "      <td>POLYGON ((14.51252 35.89737, 14.51247 35.89743...</td>\n",
       "    </tr>\n",
       "    <tr>\n",
       "      <th>2</th>\n",
       "      <td>23589859</td>\n",
       "      <td>NaN</td>\n",
       "      <td>None</td>\n",
       "      <td>None</td>\n",
       "      <td>False</td>\n",
       "      <td>None</td>\n",
       "      <td>None</td>\n",
       "      <td>None</td>\n",
       "      <td>None</td>\n",
       "      <td>POLYGON ((14.32957 36.00682, 14.32983 36.00671...</td>\n",
       "    </tr>\n",
       "    <tr>\n",
       "      <th>3</th>\n",
       "      <td>23738672</td>\n",
       "      <td>NaN</td>\n",
       "      <td>None</td>\n",
       "      <td>None</td>\n",
       "      <td>False</td>\n",
       "      <td>None</td>\n",
       "      <td>None</td>\n",
       "      <td>None</td>\n",
       "      <td>None</td>\n",
       "      <td>POLYGON ((14.30902 36.05544, 14.30907 36.05540...</td>\n",
       "    </tr>\n",
       "    <tr>\n",
       "      <th>4</th>\n",
       "      <td>23858928</td>\n",
       "      <td>NaN</td>\n",
       "      <td>None</td>\n",
       "      <td>None</td>\n",
       "      <td>True</td>\n",
       "      <td>church</td>\n",
       "      <td>None</td>\n",
       "      <td>None</td>\n",
       "      <td>None</td>\n",
       "      <td>POLYGON ((14.45655 35.83108, 14.45662 35.83114...</td>\n",
       "    </tr>\n",
       "  </tbody>\n",
       "</table>\n",
       "</div>"
      ],
      "text/plain": [
       "         id  height building:levels start_date  has_type   building  \\\n",
       "0  15684588     NaN            None       None      True       None   \n",
       "1  23352829     NaN            None       None      True  cathedral   \n",
       "2  23589859     NaN            None       None     False       None   \n",
       "3  23738672     NaN            None       None     False       None   \n",
       "4  23858928     NaN            None       None      True     church   \n",
       "\n",
       "  building:use            amenity building:material  \\\n",
       "0         None  conference_centre              None   \n",
       "1         None   place_of_worship              None   \n",
       "2         None               None              None   \n",
       "3         None               None              None   \n",
       "4         None               None              None   \n",
       "\n",
       "                                            geometry  \n",
       "0  POLYGON ((14.51781 35.89993, 14.51844 35.89981...  \n",
       "1  POLYGON ((14.51252 35.89737, 14.51247 35.89743...  \n",
       "2  POLYGON ((14.32957 36.00682, 14.32983 36.00671...  \n",
       "3  POLYGON ((14.30902 36.05544, 14.30907 36.05540...  \n",
       "4  POLYGON ((14.45655 35.83108, 14.45662 35.83114...  "
      ]
     },
     "execution_count": 29,
     "metadata": {},
     "output_type": "execute_result"
    }
   ],
   "source": [
    "buildings.head()"
   ]
  },
  {
   "cell_type": "markdown",
   "metadata": {},
   "source": [
    "## Compute summary statistics\n",
    "\n",
    "We can now compute statistics!!"
   ]
  },
  {
   "cell_type": "code",
   "execution_count": 32,
   "metadata": {},
   "outputs": [
    {
     "data": {
      "text/plain": [
       "16500"
      ]
     },
     "execution_count": 32,
     "metadata": {},
     "output_type": "execute_result"
    }
   ],
   "source": [
    "len(buildings)"
   ]
  },
  {
   "cell_type": "code",
   "execution_count": 25,
   "metadata": {},
   "outputs": [
    {
     "data": {
      "text/plain": [
       "15"
      ]
     },
     "execution_count": 25,
     "metadata": {},
     "output_type": "execute_result"
    }
   ],
   "source": [
    "len(buildings['height'].dropna())"
   ]
  },
  {
   "cell_type": "code",
   "execution_count": 35,
   "metadata": {},
   "outputs": [
    {
     "data": {
      "text/plain": [
       "160"
      ]
     },
     "execution_count": 35,
     "metadata": {},
     "output_type": "execute_result"
    }
   ],
   "source": [
    "len(buildings['building:levels'].dropna())"
   ]
  },
  {
   "cell_type": "code",
   "execution_count": 36,
   "metadata": {},
   "outputs": [
    {
     "data": {
      "text/plain": [
       "29"
      ]
     },
     "execution_count": 36,
     "metadata": {},
     "output_type": "execute_result"
    }
   ],
   "source": [
    "len(buildings['start_date'].dropna())"
   ]
  },
  {
   "cell_type": "code",
   "execution_count": 31,
   "metadata": {},
   "outputs": [
    {
     "data": {
      "text/plain": [
       "2530"
      ]
     },
     "execution_count": 31,
     "metadata": {},
     "output_type": "execute_result"
    }
   ],
   "source": [
    "len(buildings[buildings['has_type']==True])"
   ]
  }
 ],
 "metadata": {
  "kernelspec": {
   "display_name": "Python 3",
   "language": "python",
   "name": "python3"
  },
  "language_info": {
   "codemirror_mode": {
    "name": "ipython",
    "version": 3
   },
   "file_extension": ".py",
   "mimetype": "text/x-python",
   "name": "python",
   "nbconvert_exporter": "python",
   "pygments_lexer": "ipython3",
   "version": "3.8.1"
  }
 },
 "nbformat": 4,
 "nbformat_minor": 4
}
